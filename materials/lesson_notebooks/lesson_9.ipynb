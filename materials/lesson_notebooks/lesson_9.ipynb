{
 "cells": [
  {
   "cell_type": "markdown",
   "metadata": {},
   "source": [
    "## Notebook for Session 9\n",
    "\n",
    "**Note:** This notebook is to be seen as a 'scratch-pad', illustrating the points made in the slides.\n",
    "It requires TensorFlow 2.1 to run."
   ]
  },
  {
   "cell_type": "code",
   "execution_count": 1,
   "metadata": {},
   "outputs": [
    {
     "name": "stdout",
     "output_type": "stream",
     "text": [
      "Requirement already satisfied: pydot in /home/paul/anaconda3/envs/tf21/lib/python3.7/site-packages (1.4.1)\n",
      "Requirement already satisfied: pyparsing>=2.1.4 in /home/paul/anaconda3/envs/tf21/lib/python3.7/site-packages (from pydot) (2.4.7)\n",
      "Requirement already satisfied: pydotplus in /home/paul/anaconda3/envs/tf21/lib/python3.7/site-packages (2.0.2)\n",
      "Requirement already satisfied: pyparsing>=2.0.1 in /home/paul/anaconda3/envs/tf21/lib/python3.7/site-packages (from pydotplus) (2.4.7)\n"
     ]
    }
   ],
   "source": [
    "!pip install pydot\n",
    "!pip install pydotplus"
   ]
  },
  {
   "cell_type": "code",
   "execution_count": 2,
   "metadata": {},
   "outputs": [],
   "source": [
    "import json\n",
    "import pandas as pd\n",
    "import numpy as np\n",
    "import os\n",
    "import sys\n",
    "import tensorflow as tf\n",
    "#import tensorflow_hub as hub\n",
    "from time import time\n",
    "\n",
    "import matplotlib.pyplot as plt\n",
    "from matplotlib import colors\n",
    "from matplotlib.ticker import PercentFormatter\n",
    "\n",
    "from tensorflow.keras import backend as K\n",
    "from tensorflow.keras import layers\n",
    "from tensorflow.python.keras.layers import Lambda, Dense\n",
    "from tensorflow.keras.callbacks import TensorBoard\n",
    "from tensorflow.keras.backend import sparse_categorical_crossentropy"
   ]
  },
  {
   "cell_type": "markdown",
   "metadata": {},
   "source": [
    "### 1. Generation of Some Synthetic Test Data \n",
    "\n",
    "Imagine 400 train and 400 test examples with 10 features each. Each example has **two** labels, label 'a' and label 'b'. We construct these examples synthetically by picking 10 random numbers between 0 and 1, and adding for the examples with label $a =  1$ 0.2 to the first five features, and subtracting 0.2 in those features for examples with label $a = 0$. We do the same for label $b$, where we add/subtract 0.1 to features 6-10. (Obviously, this is just a toy example and the details do not matter - we just want to have some data to explore the formalisms.)"
   ]
  },
  {
   "cell_type": "code",
   "execution_count": 3,
   "metadata": {},
   "outputs": [],
   "source": [
    "train_1_X = np.array([0.2] * 5 + [0.1] * 5) + np.reshape(np.random.random(1000),[100,10])\n",
    "train_2_X = np.array([0.2] * 5 + [-0.1] * 5) + np.reshape(np.random.random(1000),[100,10])\n",
    "train_3_X = np.array([-0.2] * 5 + [0.1] * 5) + np.reshape(np.random.random(1000),[100,10])\n",
    "train_4_X = np.array([-0.2] * 5 + [-0.1] * 5) + np.reshape(np.random.random(1000),[100,10])\n",
    "\n",
    "train_X = np.concatenate([train_1_X, train_2_X, train_3_X, train_4_X])\n",
    "\n",
    "test_1_X = np.array([0.2] * 5 + [0.1] * 5) + np.reshape(np.random.random(1000),[100,10])\n",
    "test_2_X = np.array([0.2] * 5 + [-0.1] * 5) + np.reshape(np.random.random(1000),[100,10])\n",
    "test_3_X = np.array([-0.2] * 5 + [0.1] * 5) + np.reshape(np.random.random(1000),[100,10])\n",
    "test_4_X = np.array([-0.2] * 5 + [-0.1] * 5) + np.reshape(np.random.random(1000),[100,10])\n",
    "\n",
    "test_X = np.concatenate([test_1_X, test_2_X, test_3_X, test_4_X])\n",
    "\n",
    "train_1a_y = train_1b_y = train_2a_y = train_3b_y = np.reshape([[1] * 100], [100,1])\n",
    "train_2b_y = train_3a_y = train_4a_y = train_4b_y = np.reshape([[0] * 100], [100,1])\n",
    "\n",
    "test_1a_y = test_1b_y = test_2a_y = test_3b_y = np.reshape([[1] * 100], [100,1])\n",
    "test_2b_y = test_3a_y = test_4a_y = test_4b_y = np.reshape([[0] * 100], [100,1])\n",
    "\n",
    "train_a_y = np.concatenate([train_1a_y, train_2a_y, train_3a_y, train_4a_y])\n",
    "train_b_y = np.concatenate([train_1b_y, train_2b_y, train_3b_y, train_4b_y])\n",
    "\n",
    "test_a_y = np.concatenate([test_1a_y, test_2a_y, test_3a_y, test_4a_y])\n",
    "test_b_y = np.concatenate([test_1b_y, test_2b_y, test_3b_y, test_4b_y])\n"
   ]
  },
  {
   "cell_type": "markdown",
   "metadata": {},
   "source": [
    "Shapes as expected?"
   ]
  },
  {
   "cell_type": "code",
   "execution_count": 4,
   "metadata": {},
   "outputs": [
    {
     "data": {
      "text/plain": [
       "(400, 10)"
      ]
     },
     "execution_count": 4,
     "metadata": {},
     "output_type": "execute_result"
    }
   ],
   "source": [
    "np.shape(train_X)"
   ]
  },
  {
   "cell_type": "code",
   "execution_count": 5,
   "metadata": {},
   "outputs": [
    {
     "data": {
      "text/plain": [
       "array([[0.95851501, 0.61959204, 1.15041516, 0.33136821, 0.74723274,\n",
       "        0.86813375, 0.31850178, 0.21784756, 0.58501624, 0.61452869],\n",
       "       [0.91241606, 0.46656918, 1.08347314, 0.4377282 , 0.30392171,\n",
       "        0.81736764, 1.00788564, 0.52406252, 0.60108814, 0.38926679]])"
      ]
     },
     "execution_count": 5,
     "metadata": {},
     "output_type": "execute_result"
    }
   ],
   "source": [
    "train_X[:2,:]"
   ]
  },
  {
   "cell_type": "code",
   "execution_count": 6,
   "metadata": {},
   "outputs": [
    {
     "data": {
      "text/plain": [
       "(400, 1)"
      ]
     },
     "execution_count": 6,
     "metadata": {},
     "output_type": "execute_result"
    }
   ],
   "source": [
    "np.shape(train_a_y)"
   ]
  },
  {
   "cell_type": "code",
   "execution_count": 7,
   "metadata": {},
   "outputs": [
    {
     "data": {
      "text/plain": [
       "array([[1],\n",
       "       [1]])"
      ]
     },
     "execution_count": 7,
     "metadata": {},
     "output_type": "execute_result"
    }
   ],
   "source": [
    "train_a_y[:2, :]"
   ]
  },
  {
   "cell_type": "markdown",
   "metadata": {},
   "source": [
    "Looks good.\n",
    "\n",
    "### 2. Keras' Functional API Formalism\n",
    "\n",
    "Keras' Functional API allows us to construct non-sequential models with multiple inputs, multiple outputs, branched models,  etc..\n",
    "\n",
    "Key aspects:\n",
    "\n",
    "* start with definition of inputs through Input layer(s)\n",
    "* define the layers and outputs as:\n",
    "$$\\rm next\\_layer\\_activations = layer(layer\\_parameters) (previous\\_layer\\_activations)$$\n",
    "* define the model the the input(s) and output(s).  \n",
    "* 'compile' the model by specifying loss function(s), metric(s) and the optimizer.  \n",
    "\n",
    "We first set things up for one binary classification. It is most convenient to define a function called *build_model()* where we can parametrize aspects we want to vary."
   ]
  },
  {
   "cell_type": "code",
   "execution_count": 8,
   "metadata": {},
   "outputs": [
    {
     "name": "stdout",
     "output_type": "stream",
     "text": [
      "Model: \"model\"\n",
      "_________________________________________________________________\n",
      "Layer (type)                 Output Shape              Param #   \n",
      "=================================================================\n",
      "input_numbers (InputLayer)   [(None, 10)]              0         \n",
      "_________________________________________________________________\n",
      "dense (Dense)                (None, 10)                110       \n",
      "_________________________________________________________________\n",
      "dense_2 (Dense)              (None, 10)                110       \n",
      "_________________________________________________________________\n",
      "classification (Dense)       (None, 1)                 11        \n",
      "=================================================================\n",
      "Total params: 231\n",
      "Trainable params: 231\n",
      "Non-trainable params: 0\n",
      "_________________________________________________________________\n"
     ]
    }
   ],
   "source": [
    "def build_model(activation_function='relu', \n",
    "                optimizer='adam', \n",
    "                kernel_initializer=tf.keras.initializers.he_normal(seed=1), \n",
    "                bias_initializer='zeros'):\n",
    "\n",
    "    # Define Input layer(s)\n",
    "    input_numbers = tf.keras.layers.Input(shape=(10,), name=\"input_numbers\")\n",
    "\n",
    "    # Define one hidden layer and act on input\n",
    "    dense_layer = tf.keras.layers.Dense(10, \n",
    "                                        activation=activation_function, \n",
    "                                        kernel_initializer=kernel_initializer, \n",
    "                                        bias_initializer=bias_initializer,\n",
    "                                        name='dense') # layer definition\n",
    "    dense_output = dense_layer(input_numbers)  # layer acting on previous layer's output\n",
    "    \n",
    "    # Define one hidden layer and act on input\n",
    "    dense_layer_2 = tf.keras.layers.Dense(10, \n",
    "                                        activation=activation_function, \n",
    "                                        kernel_initializer=kernel_initializer, \n",
    "                                        bias_initializer=bias_initializer,\n",
    "                                        name='dense_2') # layer definition\n",
    "    dense_output_2 = dense_layer_2(dense_output)  # layer acting on previous layer's output\n",
    "\n",
    "    \n",
    "\n",
    "    # Define classification layer and act on previous output to classify examples\n",
    "    classification_layer = tf.keras.layers.Dense(1, activation='sigmoid', name='classification') # layer definition\n",
    "    classification_output = classification_layer(dense_output_2)   # layer acting on previous layer's output\n",
    "\n",
    "    # Build and compile model\n",
    "    model = tf.keras.models.Model(input_numbers, classification_output)\n",
    "    \n",
    "    model.compile(loss='binary_crossentropy', optimizer=optimizer)\n",
    "    \n",
    "    return model\n",
    "\n",
    "model = build_model()\n",
    "\n",
    "\n",
    "model.summary()"
   ]
  },
  {
   "cell_type": "markdown",
   "metadata": {},
   "source": [
    "Easy!   \n",
    "\n",
    "**Question:** Do the dimensions look right? \n",
    "\n",
    "### 3.  Training Optimizations\n",
    "\n",
    "Great, let's do some experimenting. We run the model above for the synthetic data set we defined, only considering the first label, and look at a few variations. Specifically, let's play with:\n",
    "\n",
    "* the **activation function** in the hidden layer     \n",
    "* the **initialization**    \n",
    "* the **optimizer**\n",
    "\n",
    "We run everything for 40 epochs and compare the results. (We split the training into two parts to cut down on reporting. 'verbose=0' supresses output. But we still want to see the final loss so we add one epoch with 'verbose=1'.)"
   ]
  },
  {
   "cell_type": "code",
   "execution_count": 9,
   "metadata": {},
   "outputs": [
    {
     "name": "stdout",
     "output_type": "stream",
     "text": [
      "Train on 400 samples, validate on 400 samples\n",
      "400/400 [==============================] - 0s 557us/sample - loss: 0.2163 - val_loss: 0.2316\n"
     ]
    },
    {
     "data": {
      "text/plain": [
       "<tensorflow.python.keras.callbacks.History at 0x7ff8ec1a1ed0>"
      ]
     },
     "execution_count": 9,
     "metadata": {},
     "output_type": "execute_result"
    }
   ],
   "source": [
    "model_1 = build_model()  # This one should be good...\n",
    "\n",
    "model_1.fit(\n",
    "        train_X,\n",
    "        train_a_y,\n",
    "        validation_data=[test_X, test_a_y],\n",
    "        epochs=39,\n",
    "        verbose=0)\n",
    "\n",
    "model_1.fit(\n",
    "        train_X,\n",
    "        train_a_y,\n",
    "        validation_data=[test_X, test_a_y],\n",
    "        epochs=1,\n",
    "        verbose=1)"
   ]
  },
  {
   "cell_type": "markdown",
   "metadata": {},
   "source": [
    "This is our supposed best setup, and it defines our baselines. \n",
    "\n",
    "Let's veer off and see how loss, etc. change. First, we use $tanh()$ as opposed to $relu()$:"
   ]
  },
  {
   "cell_type": "code",
   "execution_count": 10,
   "metadata": {},
   "outputs": [
    {
     "name": "stdout",
     "output_type": "stream",
     "text": [
      "Train on 400 samples, validate on 400 samples\n",
      "400/400 [==============================] - 0s 306us/sample - loss: 0.1836 - val_loss: 0.1957\n"
     ]
    },
    {
     "data": {
      "text/plain": [
       "<tensorflow.python.keras.callbacks.History at 0x7ff8c8661e90>"
      ]
     },
     "execution_count": 10,
     "metadata": {},
     "output_type": "execute_result"
    }
   ],
   "source": [
    "model_2 = build_model(activation_function='tanh')  \n",
    "\n",
    "model_2.fit(\n",
    "        train_X,\n",
    "        train_a_y,\n",
    "        validation_data=[test_X, test_a_y],\n",
    "        epochs=39,\n",
    "        verbose=0)\n",
    "\n",
    "model_2.fit(\n",
    "        train_X,\n",
    "        train_a_y,\n",
    "        validation_data=[test_X, test_a_y],\n",
    "        epochs=1,\n",
    "        verbose=1)"
   ]
  },
  {
   "cell_type": "markdown",
   "metadata": {},
   "source": [
    "A bit worse. [Of course, the initialization is random, so things may be different on future runs.]\n",
    "\n",
    "Next, we change the optimizer to stochastic gradient descent:"
   ]
  },
  {
   "cell_type": "code",
   "execution_count": 11,
   "metadata": {},
   "outputs": [
    {
     "name": "stdout",
     "output_type": "stream",
     "text": [
      "Train on 400 samples, validate on 400 samples\n",
      "400/400 [==============================] - 0s 341us/sample - loss: 0.3994 - val_loss: 0.4170\n"
     ]
    },
    {
     "data": {
      "text/plain": [
       "<tensorflow.python.keras.callbacks.History at 0x7ff8ec12c190>"
      ]
     },
     "execution_count": 11,
     "metadata": {},
     "output_type": "execute_result"
    }
   ],
   "source": [
    "model_3 = build_model(optimizer='sgd')  \n",
    "\n",
    "model_3.fit(\n",
    "        train_X,\n",
    "        train_a_y,\n",
    "        validation_data=[test_X, test_a_y],\n",
    "        epochs=39,\n",
    "        verbose=0)\n",
    "\n",
    "model_3.fit(\n",
    "        train_X,\n",
    "        train_a_y,\n",
    "        validation_data=[test_X, test_a_y],\n",
    "        epochs=1,\n",
    "        verbose=1)"
   ]
  },
  {
   "cell_type": "markdown",
   "metadata": {},
   "source": [
    "A lot worse!!\n",
    "\n",
    "Going back to the activation function, what about $sigmoid()$?"
   ]
  },
  {
   "cell_type": "code",
   "execution_count": 12,
   "metadata": {},
   "outputs": [
    {
     "name": "stdout",
     "output_type": "stream",
     "text": [
      "Train on 400 samples, validate on 400 samples\n",
      "400/400 [==============================] - 0s 513us/sample - loss: 0.5993 - val_loss: 0.5916\n"
     ]
    },
    {
     "data": {
      "text/plain": [
       "<tensorflow.python.keras.callbacks.History at 0x7ff8c82d43d0>"
      ]
     },
     "execution_count": 12,
     "metadata": {},
     "output_type": "execute_result"
    }
   ],
   "source": [
    "model_4 = build_model(activation_function='sigmoid')  \n",
    "\n",
    "model_4.fit(\n",
    "        train_X,\n",
    "        train_a_y,\n",
    "        validation_data=[test_X, test_a_y],\n",
    "        epochs=39,\n",
    "        verbose=0)\n",
    "\n",
    "model_4.fit(\n",
    "        train_X,\n",
    "        train_a_y,\n",
    "        validation_data=[test_X, test_a_y],\n",
    "        epochs=1,\n",
    "        verbose=1)"
   ]
  },
  {
   "cell_type": "markdown",
   "metadata": {},
   "source": [
    "Not good!\n",
    "\n",
    "Lastly, what about choosing general random matrix initialization as opposed to He/Xavier? "
   ]
  },
  {
   "cell_type": "code",
   "execution_count": 13,
   "metadata": {},
   "outputs": [
    {
     "name": "stdout",
     "output_type": "stream",
     "text": [
      "Train on 400 samples, validate on 400 samples\n",
      "400/400 [==============================] - 0s 407us/sample - loss: 0.1777 - val_loss: 0.1816\n"
     ]
    },
    {
     "data": {
      "text/plain": [
       "<tensorflow.python.keras.callbacks.History at 0x7ff8c8177950>"
      ]
     },
     "execution_count": 13,
     "metadata": {},
     "output_type": "execute_result"
    }
   ],
   "source": [
    "model_5 = build_model(kernel_initializer='random_normal')  \n",
    "\n",
    "model_5.fit(\n",
    "        train_X,\n",
    "        train_a_y,\n",
    "        validation_data=[test_X, test_a_y],\n",
    "        epochs=39,\n",
    "        verbose=0)\n",
    "\n",
    "model_5.fit(\n",
    "        train_X,\n",
    "        train_a_y,\n",
    "        validation_data=[test_X, test_a_y],\n",
    "        epochs=1,\n",
    "        verbose=1)"
   ]
  },
  {
   "cell_type": "markdown",
   "metadata": {},
   "source": [
    "A bit worse too.\n",
    "\n",
    "**Critical Note:** We were cheating a bit here! There is a stochastic component and if one re-reruns the cells results will differ. In fact, *in this simple case* the last configuration is often the best."
   ]
  },
  {
   "cell_type": "markdown",
   "metadata": {},
   "source": [
    "### 4. Splitting Models - Multiple Outputs\n",
    "\n",
    "Now, let's go back to our dataset and let's try to predict two labels. We want to model that by *splitting* the model, i.e., two distinct hidden layers act on the input, and we use those two branches to predict the two labels:  "
   ]
  },
  {
   "cell_type": "code",
   "execution_count": 14,
   "metadata": {},
   "outputs": [],
   "source": [
    "# Define Input layer(s)\n",
    "input_numbers = tf.keras.layers.Input(shape=(10,), name=\"input_numbers\")\n",
    "\n",
    "# Define separate hidden layers and acting on (same!) input\n",
    "dense_layer_1 = tf.keras.layers.Dense(10, activation='relu', name='dense_1')\n",
    "dense_layer_2 = tf.keras.layers.Dense(10, activation='relu', name='dense_2')\n",
    "\n",
    "dense_output_1 = dense_layer_1(input_numbers)     # hideen layer 1 acting on input\n",
    "dense_output_2 = dense_layer_2(input_numbers)     # hideen layer 2 acting on input\n",
    "\n",
    "\n",
    "\n",
    "# Define classification layer and act on previous output to classify examples\n",
    "classification_layer_1 = tf.keras.layers.Dense(1, \n",
    "                            activation='sigmoid', name='classification_1')  # classification layer 1 for first branch\n",
    "\n",
    "classification_layer_2 = tf.keras.layers.Dense(1, \n",
    "                            activation='sigmoid', name='classification_2')  # classification layer 2 for second branch\n",
    "\n",
    "\n",
    "classification_output_1 = classification_layer_1(dense_output_1)\n",
    "classification_output_2 = classification_layer_2(dense_output_2)\n",
    "\n",
    "\n",
    "\n",
    "# Build and compile model\n",
    "\n",
    "model_input = input_numbers\n",
    "model_output = [classification_output_1, classification_output_2]\n",
    "losses = ['binary_crossentropy', 'binary_crossentropy']\n",
    "metrics = ['acc', 'acc']\n",
    "\n",
    "model = tf.keras.models.Model(model_input, model_output)\n",
    "model.compile(loss=losses,  optimizer='adam', metrics=metrics)\n",
    "\n",
    "\n"
   ]
  },
  {
   "cell_type": "code",
   "execution_count": 15,
   "metadata": {},
   "outputs": [
    {
     "name": "stdout",
     "output_type": "stream",
     "text": [
      "Model: \"model_6\"\n",
      "__________________________________________________________________________________________________\n",
      "Layer (type)                    Output Shape         Param #     Connected to                     \n",
      "==================================================================================================\n",
      "input_numbers (InputLayer)      [(None, 10)]         0                                            \n",
      "__________________________________________________________________________________________________\n",
      "dense_1 (Dense)                 (None, 10)           110         input_numbers[0][0]              \n",
      "__________________________________________________________________________________________________\n",
      "dense_2 (Dense)                 (None, 10)           110         input_numbers[0][0]              \n",
      "__________________________________________________________________________________________________\n",
      "classification_1 (Dense)        (None, 1)            11          dense_1[0][0]                    \n",
      "__________________________________________________________________________________________________\n",
      "classification_2 (Dense)        (None, 1)            11          dense_2[0][0]                    \n",
      "==================================================================================================\n",
      "Total params: 242\n",
      "Trainable params: 242\n",
      "Non-trainable params: 0\n",
      "__________________________________________________________________________________________________\n"
     ]
    }
   ],
   "source": [
    "model.summary()"
   ]
  },
  {
   "cell_type": "markdown",
   "metadata": {},
   "source": [
    "We can also take a look at how the layers are connected."
   ]
  },
  {
   "cell_type": "code",
   "execution_count": 16,
   "metadata": {},
   "outputs": [
    {
     "data": {
      "image/png": "[encoded data removed]",
      "text/plain": [
       "<IPython.core.display.Image object>"
      ]
     },
     "execution_count": 16,
     "metadata": {},
     "output_type": "execute_result"
    }
   ],
   "source": [
    "tf.keras.utils.plot_model(model, show_shapes=True)"
   ]
  },
  {
   "cell_type": "markdown",
   "metadata": {},
   "source": [
    "Previously, when we ran `model.fit()` we created a keras history object.  We can use that now in order to examine model training in more detail."
   ]
  },
  {
   "cell_type": "code",
   "execution_count": 17,
   "metadata": {},
   "outputs": [
    {
     "name": "stdout",
     "output_type": "stream",
     "text": [
      "Train on 400 samples, validate on 400 samples\n",
      "Epoch 1/150\n",
      "400/400 [==============================] - 1s 3ms/sample - loss: 1.4742 - classification_1_loss: 0.7553 - classification_2_loss: 0.7153 - classification_1_acc: 0.4750 - classification_2_acc: 0.4500 - val_loss: 1.4515 - val_classification_1_loss: 0.7289 - val_classification_2_loss: 0.7170 - val_classification_1_acc: 0.4775 - val_classification_2_acc: 0.4775\n",
      "Epoch 2/150\n",
      "400/400 [==============================] - 0s 527us/sample - loss: 1.4337 - classification_1_loss: 0.7251 - classification_2_loss: 0.7108 - classification_1_acc: 0.4900 - classification_2_acc: 0.4625 - val_loss: 1.4172 - val_classification_1_loss: 0.7014 - val_classification_2_loss: 0.7124 - val_classification_1_acc: 0.5100 - val_classification_2_acc: 0.4850\n",
      "Epoch 3/150\n",
      "400/400 [==============================] - 0s 524us/sample - loss: 1.4019 - classification_1_loss: 0.6938 - classification_2_loss: 0.7054 - classification_1_acc: 0.5550 - classification_2_acc: 0.4825 - val_loss: 1.3854 - val_classification_1_loss: 0.6762 - val_classification_2_loss: 0.7077 - val_classification_1_acc: 0.5875 - val_classification_2_acc: 0.4850\n",
      "Epoch 4/150\n",
      "400/400 [==============================] - 0s 524us/sample - loss: 1.3731 - classification_1_loss: 0.6695 - classification_2_loss: 0.7017 - classification_1_acc: 0.5875 - classification_2_acc: 0.5000 - val_loss: 1.3605 - val_classification_1_loss: 0.6565 - val_classification_2_loss: 0.7037 - val_classification_1_acc: 0.6375 - val_classification_2_acc: 0.4875\n",
      "Epoch 5/150\n",
      "400/400 [==============================] - 0s 383us/sample - loss: 1.3495 - classification_1_loss: 0.6507 - classification_2_loss: 0.6979 - classification_1_acc: 0.6050 - classification_2_acc: 0.5100 - val_loss: 1.3382 - val_classification_1_loss: 0.6384 - val_classification_2_loss: 0.7008 - val_classification_1_acc: 0.6925 - val_classification_2_acc: 0.5000\n",
      "Epoch 6/150\n",
      "400/400 [==============================] - 0s 328us/sample - loss: 1.3270 - classification_1_loss: 0.6353 - classification_2_loss: 0.6938 - classification_1_acc: 0.6600 - classification_2_acc: 0.5225 - val_loss: 1.3182 - val_classification_1_loss: 0.6223 - val_classification_2_loss: 0.6976 - val_classification_1_acc: 0.6975 - val_classification_2_acc: 0.5050\n",
      "Epoch 7/150\n",
      "400/400 [==============================] - 0s 348us/sample - loss: 1.3069 - classification_1_loss: 0.6163 - classification_2_loss: 0.6905 - classification_1_acc: 0.6925 - classification_2_acc: 0.5250 - val_loss: 1.2999 - val_classification_1_loss: 0.6072 - val_classification_2_loss: 0.6948 - val_classification_1_acc: 0.7175 - val_classification_2_acc: 0.5200\n",
      "Epoch 8/150\n",
      "400/400 [==============================] - 0s 419us/sample - loss: 1.2888 - classification_1_loss: 0.6024 - classification_2_loss: 0.6868 - classification_1_acc: 0.7175 - classification_2_acc: 0.5350 - val_loss: 1.2820 - val_classification_1_loss: 0.5923 - val_classification_2_loss: 0.6921 - val_classification_1_acc: 0.7500 - val_classification_2_acc: 0.5475\n",
      "Epoch 9/150\n",
      "400/400 [==============================] - 0s 463us/sample - loss: 1.2714 - classification_1_loss: 0.5880 - classification_2_loss: 0.6834 - classification_1_acc: 0.7400 - classification_2_acc: 0.5600 - val_loss: 1.2644 - val_classification_1_loss: 0.5780 - val_classification_2_loss: 0.6896 - val_classification_1_acc: 0.7600 - val_classification_2_acc: 0.5450\n",
      "Epoch 10/150\n",
      "400/400 [==============================] - 0s 550us/sample - loss: 1.2540 - classification_1_loss: 0.5719 - classification_2_loss: 0.6818 - classification_1_acc: 0.7550 - classification_2_acc: 0.5625 - val_loss: 1.2476 - val_classification_1_loss: 0.5640 - val_classification_2_loss: 0.6874 - val_classification_1_acc: 0.7600 - val_classification_2_acc: 0.5550\n",
      "Epoch 11/150\n",
      "400/400 [==============================] - 0s 377us/sample - loss: 1.2371 - classification_1_loss: 0.5560 - classification_2_loss: 0.6797 - classification_1_acc: 0.7600 - classification_2_acc: 0.5700 - val_loss: 1.2308 - val_classification_1_loss: 0.5500 - val_classification_2_loss: 0.6850 - val_classification_1_acc: 0.7700 - val_classification_2_acc: 0.5600\n",
      "Epoch 12/150\n",
      "400/400 [==============================] - 0s 380us/sample - loss: 1.2206 - classification_1_loss: 0.5443 - classification_2_loss: 0.6775 - classification_1_acc: 0.7725 - classification_2_acc: 0.6000 - val_loss: 1.2133 - val_classification_1_loss: 0.5354 - val_classification_2_loss: 0.6821 - val_classification_1_acc: 0.7825 - val_classification_2_acc: 0.5750\n",
      "Epoch 13/150\n",
      "400/400 [==============================] - 0s 443us/sample - loss: 1.2029 - classification_1_loss: 0.5302 - classification_2_loss: 0.6736 - classification_1_acc: 0.7900 - classification_2_acc: 0.6225 - val_loss: 1.1961 - val_classification_1_loss: 0.5211 - val_classification_2_loss: 0.6794 - val_classification_1_acc: 0.7850 - val_classification_2_acc: 0.5725\n",
      "Epoch 14/150\n",
      "400/400 [==============================] - 0s 492us/sample - loss: 1.1852 - classification_1_loss: 0.5142 - classification_2_loss: 0.6702 - classification_1_acc: 0.8075 - classification_2_acc: 0.6400 - val_loss: 1.1791 - val_classification_1_loss: 0.5074 - val_classification_2_loss: 0.6763 - val_classification_1_acc: 0.8150 - val_classification_2_acc: 0.6025\n",
      "Epoch 15/150\n",
      "400/400 [==============================] - 0s 486us/sample - loss: 1.1667 - classification_1_loss: 0.4990 - classification_2_loss: 0.6658 - classification_1_acc: 0.8250 - classification_2_acc: 0.6525 - val_loss: 1.1610 - val_classification_1_loss: 0.4923 - val_classification_2_loss: 0.6732 - val_classification_1_acc: 0.8275 - val_classification_2_acc: 0.6175\n",
      "Epoch 16/150\n",
      "400/400 [==============================] - 0s 548us/sample - loss: 1.1478 - classification_1_loss: 0.4834 - classification_2_loss: 0.6608 - classification_1_acc: 0.8400 - classification_2_acc: 0.6550 - val_loss: 1.1428 - val_classification_1_loss: 0.4774 - val_classification_2_loss: 0.6703 - val_classification_1_acc: 0.8500 - val_classification_2_acc: 0.6275\n",
      "Epoch 17/150\n",
      "400/400 [==============================] - 0s 430us/sample - loss: 1.1282 - classification_1_loss: 0.4671 - classification_2_loss: 0.6575 - classification_1_acc: 0.8350 - classification_2_acc: 0.6650 - val_loss: 1.1248 - val_classification_1_loss: 0.4635 - val_classification_2_loss: 0.6667 - val_classification_1_acc: 0.8550 - val_classification_2_acc: 0.6350\n",
      "Epoch 18/150\n",
      "400/400 [==============================] - 0s 471us/sample - loss: 1.1091 - classification_1_loss: 0.4531 - classification_2_loss: 0.6545 - classification_1_acc: 0.8450 - classification_2_acc: 0.6825 - val_loss: 1.1073 - val_classification_1_loss: 0.4491 - val_classification_2_loss: 0.6635 - val_classification_1_acc: 0.8725 - val_classification_2_acc: 0.6450\n",
      "Epoch 19/150\n",
      "400/400 [==============================] - 0s 543us/sample - loss: 1.0909 - classification_1_loss: 0.4390 - classification_2_loss: 0.6509 - classification_1_acc: 0.8450 - classification_2_acc: 0.6825 - val_loss: 1.0897 - val_classification_1_loss: 0.4353 - val_classification_2_loss: 0.6603 - val_classification_1_acc: 0.8700 - val_classification_2_acc: 0.6475\n",
      "Epoch 20/150\n",
      "400/400 [==============================] - 0s 388us/sample - loss: 1.0738 - classification_1_loss: 0.4291 - classification_2_loss: 0.6471 - classification_1_acc: 0.8550 - classification_2_acc: 0.6850 - val_loss: 1.0729 - val_classification_1_loss: 0.4226 - val_classification_2_loss: 0.6570 - val_classification_1_acc: 0.8725 - val_classification_2_acc: 0.6400\n",
      "Epoch 21/150\n",
      "400/400 [==============================] - 0s 484us/sample - loss: 1.0567 - classification_1_loss: 0.4137 - classification_2_loss: 0.6455 - classification_1_acc: 0.8525 - classification_2_acc: 0.6875 - val_loss: 1.0581 - val_classification_1_loss: 0.4110 - val_classification_2_loss: 0.6535 - val_classification_1_acc: 0.8675 - val_classification_2_acc: 0.6650\n",
      "Epoch 22/150\n",
      "400/400 [==============================] - 0s 597us/sample - loss: 1.0408 - classification_1_loss: 0.4005 - classification_2_loss: 0.6376 - classification_1_acc: 0.8575 - classification_2_acc: 0.6975 - val_loss: 1.0437 - val_classification_1_loss: 0.4004 - val_classification_2_loss: 0.6500 - val_classification_1_acc: 0.8700 - val_classification_2_acc: 0.6600\n"
     ]
    },
    {
     "name": "stdout",
     "output_type": "stream",
     "text": [
      "Epoch 23/150\n",
      "400/400 [==============================] - 0s 407us/sample - loss: 1.0261 - classification_1_loss: 0.3904 - classification_2_loss: 0.6343 - classification_1_acc: 0.8675 - classification_2_acc: 0.7050 - val_loss: 1.0285 - val_classification_1_loss: 0.3900 - val_classification_2_loss: 0.6462 - val_classification_1_acc: 0.8700 - val_classification_2_acc: 0.6650\n",
      "Epoch 24/150\n",
      "400/400 [==============================] - 0s 346us/sample - loss: 1.0113 - classification_1_loss: 0.3779 - classification_2_loss: 0.6319 - classification_1_acc: 0.8700 - classification_2_acc: 0.7050 - val_loss: 1.0140 - val_classification_1_loss: 0.3803 - val_classification_2_loss: 0.6423 - val_classification_1_acc: 0.8750 - val_classification_2_acc: 0.6700\n",
      "Epoch 25/150\n",
      "400/400 [==============================] - 0s 224us/sample - loss: 0.9975 - classification_1_loss: 0.3699 - classification_2_loss: 0.6243 - classification_1_acc: 0.8725 - classification_2_acc: 0.7075 - val_loss: 1.0005 - val_classification_1_loss: 0.3708 - val_classification_2_loss: 0.6381 - val_classification_1_acc: 0.8750 - val_classification_2_acc: 0.6675\n",
      "Epoch 26/150\n",
      "400/400 [==============================] - 0s 281us/sample - loss: 0.9840 - classification_1_loss: 0.3618 - classification_2_loss: 0.6216 - classification_1_acc: 0.8800 - classification_2_acc: 0.7025 - val_loss: 0.9873 - val_classification_1_loss: 0.3624 - val_classification_2_loss: 0.6340 - val_classification_1_acc: 0.8775 - val_classification_2_acc: 0.6875\n",
      "Epoch 27/150\n",
      "400/400 [==============================] - 0s 280us/sample - loss: 0.9706 - classification_1_loss: 0.3554 - classification_2_loss: 0.6174 - classification_1_acc: 0.8825 - classification_2_acc: 0.7050 - val_loss: 0.9750 - val_classification_1_loss: 0.3543 - val_classification_2_loss: 0.6297 - val_classification_1_acc: 0.8825 - val_classification_2_acc: 0.6950\n",
      "Epoch 28/150\n",
      "400/400 [==============================] - 0s 331us/sample - loss: 0.9582 - classification_1_loss: 0.3443 - classification_2_loss: 0.6130 - classification_1_acc: 0.8825 - classification_2_acc: 0.7125 - val_loss: 0.9635 - val_classification_1_loss: 0.3468 - val_classification_2_loss: 0.6255 - val_classification_1_acc: 0.8800 - val_classification_2_acc: 0.7000\n",
      "Epoch 29/150\n",
      "400/400 [==============================] - 0s 390us/sample - loss: 0.9465 - classification_1_loss: 0.3390 - classification_2_loss: 0.6105 - classification_1_acc: 0.8825 - classification_2_acc: 0.7100 - val_loss: 0.9526 - val_classification_1_loss: 0.3400 - val_classification_2_loss: 0.6221 - val_classification_1_acc: 0.8825 - val_classification_2_acc: 0.7000\n",
      "Epoch 30/150\n",
      "400/400 [==============================] - 0s 399us/sample - loss: 0.9358 - classification_1_loss: 0.3340 - classification_2_loss: 0.6054 - classification_1_acc: 0.8850 - classification_2_acc: 0.7075 - val_loss: 0.9422 - val_classification_1_loss: 0.3328 - val_classification_2_loss: 0.6190 - val_classification_1_acc: 0.8825 - val_classification_2_acc: 0.7000\n",
      "Epoch 31/150\n",
      "400/400 [==============================] - 0s 415us/sample - loss: 0.9268 - classification_1_loss: 0.3281 - classification_2_loss: 0.5994 - classification_1_acc: 0.8825 - classification_2_acc: 0.7075 - val_loss: 0.9329 - val_classification_1_loss: 0.3271 - val_classification_2_loss: 0.6161 - val_classification_1_acc: 0.8850 - val_classification_2_acc: 0.7050\n",
      "Epoch 32/150\n",
      "400/400 [==============================] - 0s 315us/sample - loss: 0.9162 - classification_1_loss: 0.3174 - classification_2_loss: 0.5973 - classification_1_acc: 0.8825 - classification_2_acc: 0.7200 - val_loss: 0.9232 - val_classification_1_loss: 0.3205 - val_classification_2_loss: 0.6121 - val_classification_1_acc: 0.8875 - val_classification_2_acc: 0.6925\n",
      "Epoch 33/150\n",
      "400/400 [==============================] - 0s 375us/sample - loss: 0.9072 - classification_1_loss: 0.3109 - classification_2_loss: 0.5954 - classification_1_acc: 0.8875 - classification_2_acc: 0.7225 - val_loss: 0.9145 - val_classification_1_loss: 0.3153 - val_classification_2_loss: 0.6088 - val_classification_1_acc: 0.8900 - val_classification_2_acc: 0.7000\n",
      "Epoch 34/150\n",
      "400/400 [==============================] - 0s 371us/sample - loss: 0.8984 - classification_1_loss: 0.3084 - classification_2_loss: 0.5949 - classification_1_acc: 0.8875 - classification_2_acc: 0.7300 - val_loss: 0.9057 - val_classification_1_loss: 0.3100 - val_classification_2_loss: 0.6057 - val_classification_1_acc: 0.8950 - val_classification_2_acc: 0.7025\n",
      "Epoch 35/150\n",
      "400/400 [==============================] - 0s 309us/sample - loss: 0.8897 - classification_1_loss: 0.2978 - classification_2_loss: 0.5880 - classification_1_acc: 0.8875 - classification_2_acc: 0.7275 - val_loss: 0.8978 - val_classification_1_loss: 0.3052 - val_classification_2_loss: 0.6022 - val_classification_1_acc: 0.8950 - val_classification_2_acc: 0.7050\n",
      "Epoch 36/150\n",
      "400/400 [==============================] - 0s 418us/sample - loss: 0.8816 - classification_1_loss: 0.3034 - classification_2_loss: 0.5812 - classification_1_acc: 0.8900 - classification_2_acc: 0.7250 - val_loss: 0.8901 - val_classification_1_loss: 0.3005 - val_classification_2_loss: 0.5994 - val_classification_1_acc: 0.8950 - val_classification_2_acc: 0.7075\n",
      "Epoch 37/150\n",
      "400/400 [==============================] - 0s 393us/sample - loss: 0.8745 - classification_1_loss: 0.2990 - classification_2_loss: 0.5822 - classification_1_acc: 0.8875 - classification_2_acc: 0.7300 - val_loss: 0.8825 - val_classification_1_loss: 0.2955 - val_classification_2_loss: 0.5962 - val_classification_1_acc: 0.8975 - val_classification_2_acc: 0.7075\n",
      "Epoch 38/150\n",
      "400/400 [==============================] - 0s 462us/sample - loss: 0.8658 - classification_1_loss: 0.2866 - classification_2_loss: 0.5771 - classification_1_acc: 0.8950 - classification_2_acc: 0.7300 - val_loss: 0.8756 - val_classification_1_loss: 0.2915 - val_classification_2_loss: 0.5937 - val_classification_1_acc: 0.8975 - val_classification_2_acc: 0.7125\n",
      "Epoch 39/150\n",
      "400/400 [==============================] - 0s 460us/sample - loss: 0.8587 - classification_1_loss: 0.2856 - classification_2_loss: 0.5729 - classification_1_acc: 0.8950 - classification_2_acc: 0.7325 - val_loss: 0.8689 - val_classification_1_loss: 0.2882 - val_classification_2_loss: 0.5911 - val_classification_1_acc: 0.8975 - val_classification_2_acc: 0.7150\n",
      "Epoch 40/150\n",
      "400/400 [==============================] - 0s 320us/sample - loss: 0.8509 - classification_1_loss: 0.2797 - classification_2_loss: 0.5700 - classification_1_acc: 0.8925 - classification_2_acc: 0.7325 - val_loss: 0.8615 - val_classification_1_loss: 0.2840 - val_classification_2_loss: 0.5875 - val_classification_1_acc: 0.8975 - val_classification_2_acc: 0.7125\n",
      "Epoch 41/150\n",
      "400/400 [==============================] - 0s 474us/sample - loss: 0.8437 - classification_1_loss: 0.2794 - classification_2_loss: 0.5672 - classification_1_acc: 0.8950 - classification_2_acc: 0.7300 - val_loss: 0.8551 - val_classification_1_loss: 0.2806 - val_classification_2_loss: 0.5845 - val_classification_1_acc: 0.8975 - val_classification_2_acc: 0.7150\n",
      "Epoch 42/150\n",
      "400/400 [==============================] - 0s 498us/sample - loss: 0.8360 - classification_1_loss: 0.2754 - classification_2_loss: 0.5623 - classification_1_acc: 0.9000 - classification_2_acc: 0.7350 - val_loss: 0.8484 - val_classification_1_loss: 0.2764 - val_classification_2_loss: 0.5821 - val_classification_1_acc: 0.8975 - val_classification_2_acc: 0.7150\n",
      "Epoch 43/150\n",
      "400/400 [==============================] - 0s 448us/sample - loss: 0.8298 - classification_1_loss: 0.2689 - classification_2_loss: 0.5588 - classification_1_acc: 0.8975 - classification_2_acc: 0.7325 - val_loss: 0.8426 - val_classification_1_loss: 0.2734 - val_classification_2_loss: 0.5794 - val_classification_1_acc: 0.9000 - val_classification_2_acc: 0.7175\n",
      "Epoch 44/150\n",
      "400/400 [==============================] - 0s 569us/sample - loss: 0.8236 - classification_1_loss: 0.2656 - classification_2_loss: 0.5584 - classification_1_acc: 0.8950 - classification_2_acc: 0.7375 - val_loss: 0.8373 - val_classification_1_loss: 0.2702 - val_classification_2_loss: 0.5781 - val_classification_1_acc: 0.9025 - val_classification_2_acc: 0.7050\n"
     ]
    },
    {
     "name": "stdout",
     "output_type": "stream",
     "text": [
      "Epoch 45/150\n",
      "400/400 [==============================] - 0s 439us/sample - loss: 0.8170 - classification_1_loss: 0.2664 - classification_2_loss: 0.5573 - classification_1_acc: 0.8975 - classification_2_acc: 0.7325 - val_loss: 0.8319 - val_classification_1_loss: 0.2675 - val_classification_2_loss: 0.5747 - val_classification_1_acc: 0.9050 - val_classification_2_acc: 0.7200\n",
      "Epoch 46/150\n",
      "400/400 [==============================] - 0s 402us/sample - loss: 0.8112 - classification_1_loss: 0.2572 - classification_2_loss: 0.5494 - classification_1_acc: 0.8950 - classification_2_acc: 0.7425 - val_loss: 0.8264 - val_classification_1_loss: 0.2638 - val_classification_2_loss: 0.5728 - val_classification_1_acc: 0.9000 - val_classification_2_acc: 0.7250\n",
      "Epoch 47/150\n",
      "400/400 [==============================] - 0s 359us/sample - loss: 0.8051 - classification_1_loss: 0.2549 - classification_2_loss: 0.5454 - classification_1_acc: 0.8975 - classification_2_acc: 0.7450 - val_loss: 0.8211 - val_classification_1_loss: 0.2608 - val_classification_2_loss: 0.5698 - val_classification_1_acc: 0.9025 - val_classification_2_acc: 0.7300\n",
      "Epoch 48/150\n",
      "400/400 [==============================] - 0s 480us/sample - loss: 0.7995 - classification_1_loss: 0.2553 - classification_2_loss: 0.5377 - classification_1_acc: 0.8975 - classification_2_acc: 0.7550 - val_loss: 0.8165 - val_classification_1_loss: 0.2582 - val_classification_2_loss: 0.5678 - val_classification_1_acc: 0.9025 - val_classification_2_acc: 0.7250\n",
      "Epoch 49/150\n",
      "400/400 [==============================] - 0s 390us/sample - loss: 0.7950 - classification_1_loss: 0.2512 - classification_2_loss: 0.5420 - classification_1_acc: 0.8950 - classification_2_acc: 0.7500 - val_loss: 0.8123 - val_classification_1_loss: 0.2564 - val_classification_2_loss: 0.5659 - val_classification_1_acc: 0.9075 - val_classification_2_acc: 0.7325\n",
      "Epoch 50/150\n",
      "400/400 [==============================] - 0s 394us/sample - loss: 0.7893 - classification_1_loss: 0.2533 - classification_2_loss: 0.5357 - classification_1_acc: 0.8950 - classification_2_acc: 0.7500 - val_loss: 0.8078 - val_classification_1_loss: 0.2534 - val_classification_2_loss: 0.5641 - val_classification_1_acc: 0.9025 - val_classification_2_acc: 0.7250\n",
      "Epoch 51/150\n",
      "400/400 [==============================] - 0s 378us/sample - loss: 0.7847 - classification_1_loss: 0.2472 - classification_2_loss: 0.5331 - classification_1_acc: 0.8975 - classification_2_acc: 0.7550 - val_loss: 0.8031 - val_classification_1_loss: 0.2503 - val_classification_2_loss: 0.5620 - val_classification_1_acc: 0.9050 - val_classification_2_acc: 0.7300\n",
      "Epoch 52/150\n",
      "400/400 [==============================] - 0s 349us/sample - loss: 0.7799 - classification_1_loss: 0.2464 - classification_2_loss: 0.5372 - classification_1_acc: 0.9050 - classification_2_acc: 0.7550 - val_loss: 0.7994 - val_classification_1_loss: 0.2487 - val_classification_2_loss: 0.5602 - val_classification_1_acc: 0.9075 - val_classification_2_acc: 0.7300\n",
      "Epoch 53/150\n",
      "400/400 [==============================] - 0s 319us/sample - loss: 0.7759 - classification_1_loss: 0.2407 - classification_2_loss: 0.5310 - classification_1_acc: 0.8975 - classification_2_acc: 0.7500 - val_loss: 0.7964 - val_classification_1_loss: 0.2476 - val_classification_2_loss: 0.5578 - val_classification_1_acc: 0.9075 - val_classification_2_acc: 0.7325\n",
      "Epoch 54/150\n",
      "400/400 [==============================] - 0s 380us/sample - loss: 0.7711 - classification_1_loss: 0.2361 - classification_2_loss: 0.5294 - classification_1_acc: 0.9000 - classification_2_acc: 0.7525 - val_loss: 0.7914 - val_classification_1_loss: 0.2439 - val_classification_2_loss: 0.5569 - val_classification_1_acc: 0.9075 - val_classification_2_acc: 0.7325\n",
      "Epoch 55/150\n",
      "400/400 [==============================] - 0s 362us/sample - loss: 0.7661 - classification_1_loss: 0.2391 - classification_2_loss: 0.5313 - classification_1_acc: 0.9075 - classification_2_acc: 0.7575 - val_loss: 0.7876 - val_classification_1_loss: 0.2417 - val_classification_2_loss: 0.5544 - val_classification_1_acc: 0.9100 - val_classification_2_acc: 0.7375\n",
      "Epoch 56/150\n",
      "400/400 [==============================] - 0s 436us/sample - loss: 0.7621 - classification_1_loss: 0.2328 - classification_2_loss: 0.5218 - classification_1_acc: 0.9075 - classification_2_acc: 0.7475 - val_loss: 0.7842 - val_classification_1_loss: 0.2396 - val_classification_2_loss: 0.5527 - val_classification_1_acc: 0.9100 - val_classification_2_acc: 0.7375\n",
      "Epoch 57/150\n",
      "400/400 [==============================] - 0s 313us/sample - loss: 0.7576 - classification_1_loss: 0.2374 - classification_2_loss: 0.5213 - classification_1_acc: 0.9075 - classification_2_acc: 0.7500 - val_loss: 0.7812 - val_classification_1_loss: 0.2383 - val_classification_2_loss: 0.5514 - val_classification_1_acc: 0.9150 - val_classification_2_acc: 0.7425\n",
      "Epoch 58/150\n",
      "400/400 [==============================] - 0s 298us/sample - loss: 0.7539 - classification_1_loss: 0.2315 - classification_2_loss: 0.5167 - classification_1_acc: 0.9100 - classification_2_acc: 0.7525 - val_loss: 0.7777 - val_classification_1_loss: 0.2360 - val_classification_2_loss: 0.5506 - val_classification_1_acc: 0.9125 - val_classification_2_acc: 0.7350\n",
      "Epoch 59/150\n",
      "400/400 [==============================] - 0s 397us/sample - loss: 0.7502 - classification_1_loss: 0.2251 - classification_2_loss: 0.5163 - classification_1_acc: 0.9125 - classification_2_acc: 0.7475 - val_loss: 0.7752 - val_classification_1_loss: 0.2349 - val_classification_2_loss: 0.5494 - val_classification_1_acc: 0.9125 - val_classification_2_acc: 0.7350\n",
      "Epoch 60/150\n",
      "400/400 [==============================] - 0s 398us/sample - loss: 0.7465 - classification_1_loss: 0.2285 - classification_2_loss: 0.5158 - classification_1_acc: 0.9150 - classification_2_acc: 0.7575 - val_loss: 0.7714 - val_classification_1_loss: 0.2325 - val_classification_2_loss: 0.5470 - val_classification_1_acc: 0.9125 - val_classification_2_acc: 0.7475\n",
      "Epoch 61/150\n",
      "400/400 [==============================] - 0s 368us/sample - loss: 0.7431 - classification_1_loss: 0.2238 - classification_2_loss: 0.5158 - classification_1_acc: 0.9125 - classification_2_acc: 0.7525 - val_loss: 0.7685 - val_classification_1_loss: 0.2305 - val_classification_2_loss: 0.5453 - val_classification_1_acc: 0.9125 - val_classification_2_acc: 0.7450\n",
      "Epoch 62/150\n",
      "400/400 [==============================] - 0s 386us/sample - loss: 0.7389 - classification_1_loss: 0.2191 - classification_2_loss: 0.5103 - classification_1_acc: 0.9150 - classification_2_acc: 0.7525 - val_loss: 0.7652 - val_classification_1_loss: 0.2286 - val_classification_2_loss: 0.5444 - val_classification_1_acc: 0.9125 - val_classification_2_acc: 0.7475\n",
      "Epoch 63/150\n",
      "400/400 [==============================] - 0s 367us/sample - loss: 0.7358 - classification_1_loss: 0.2213 - classification_2_loss: 0.5156 - classification_1_acc: 0.9150 - classification_2_acc: 0.7550 - val_loss: 0.7627 - val_classification_1_loss: 0.2271 - val_classification_2_loss: 0.5440 - val_classification_1_acc: 0.9125 - val_classification_2_acc: 0.7450\n",
      "Epoch 64/150\n",
      "400/400 [==============================] - 0s 388us/sample - loss: 0.7343 - classification_1_loss: 0.2215 - classification_2_loss: 0.5114 - classification_1_acc: 0.9150 - classification_2_acc: 0.7600 - val_loss: 0.7605 - val_classification_1_loss: 0.2255 - val_classification_2_loss: 0.5418 - val_classification_1_acc: 0.9125 - val_classification_2_acc: 0.7375\n",
      "Epoch 65/150\n",
      "400/400 [==============================] - 0s 441us/sample - loss: 0.7286 - classification_1_loss: 0.2204 - classification_2_loss: 0.5122 - classification_1_acc: 0.9175 - classification_2_acc: 0.7550 - val_loss: 0.7577 - val_classification_1_loss: 0.2243 - val_classification_2_loss: 0.5414 - val_classification_1_acc: 0.9100 - val_classification_2_acc: 0.7450\n",
      "Epoch 66/150\n",
      "400/400 [==============================] - 0s 331us/sample - loss: 0.7261 - classification_1_loss: 0.2172 - classification_2_loss: 0.5032 - classification_1_acc: 0.9150 - classification_2_acc: 0.7575 - val_loss: 0.7548 - val_classification_1_loss: 0.2220 - val_classification_2_loss: 0.5406 - val_classification_1_acc: 0.9125 - val_classification_2_acc: 0.7450\n"
     ]
    },
    {
     "name": "stdout",
     "output_type": "stream",
     "text": [
      "Epoch 67/150\n",
      "400/400 [==============================] - 0s 309us/sample - loss: 0.7236 - classification_1_loss: 0.2192 - classification_2_loss: 0.5154 - classification_1_acc: 0.9175 - classification_2_acc: 0.7525 - val_loss: 0.7526 - val_classification_1_loss: 0.2211 - val_classification_2_loss: 0.5391 - val_classification_1_acc: 0.9100 - val_classification_2_acc: 0.7450\n",
      "Epoch 68/150\n",
      "400/400 [==============================] - 0s 402us/sample - loss: 0.7191 - classification_1_loss: 0.2129 - classification_2_loss: 0.5041 - classification_1_acc: 0.9150 - classification_2_acc: 0.7625 - val_loss: 0.7502 - val_classification_1_loss: 0.2191 - val_classification_2_loss: 0.5375 - val_classification_1_acc: 0.9125 - val_classification_2_acc: 0.7425\n",
      "Epoch 69/150\n",
      "400/400 [==============================] - 0s 399us/sample - loss: 0.7168 - classification_1_loss: 0.2220 - classification_2_loss: 0.5021 - classification_1_acc: 0.9150 - classification_2_acc: 0.7725 - val_loss: 0.7480 - val_classification_1_loss: 0.2178 - val_classification_2_loss: 0.5365 - val_classification_1_acc: 0.9125 - val_classification_2_acc: 0.7475\n",
      "Epoch 70/150\n",
      "400/400 [==============================] - 0s 387us/sample - loss: 0.7141 - classification_1_loss: 0.2159 - classification_2_loss: 0.5024 - classification_1_acc: 0.9175 - classification_2_acc: 0.7675 - val_loss: 0.7458 - val_classification_1_loss: 0.2170 - val_classification_2_loss: 0.5355 - val_classification_1_acc: 0.9150 - val_classification_2_acc: 0.7475\n",
      "Epoch 71/150\n",
      "400/400 [==============================] - 0s 339us/sample - loss: 0.7109 - classification_1_loss: 0.2159 - classification_2_loss: 0.4998 - classification_1_acc: 0.9175 - classification_2_acc: 0.7650 - val_loss: 0.7433 - val_classification_1_loss: 0.2153 - val_classification_2_loss: 0.5347 - val_classification_1_acc: 0.9150 - val_classification_2_acc: 0.7500\n",
      "Epoch 72/150\n",
      "400/400 [==============================] - 0s 394us/sample - loss: 0.7081 - classification_1_loss: 0.2109 - classification_2_loss: 0.5002 - classification_1_acc: 0.9175 - classification_2_acc: 0.7600 - val_loss: 0.7410 - val_classification_1_loss: 0.2139 - val_classification_2_loss: 0.5346 - val_classification_1_acc: 0.9150 - val_classification_2_acc: 0.7425\n",
      "Epoch 73/150\n",
      "400/400 [==============================] - 0s 356us/sample - loss: 0.7057 - classification_1_loss: 0.2038 - classification_2_loss: 0.4956 - classification_1_acc: 0.9200 - classification_2_acc: 0.7625 - val_loss: 0.7386 - val_classification_1_loss: 0.2123 - val_classification_2_loss: 0.5335 - val_classification_1_acc: 0.9150 - val_classification_2_acc: 0.7425\n",
      "Epoch 74/150\n",
      "400/400 [==============================] - 0s 419us/sample - loss: 0.7030 - classification_1_loss: 0.2087 - classification_2_loss: 0.4948 - classification_1_acc: 0.9175 - classification_2_acc: 0.7650 - val_loss: 0.7368 - val_classification_1_loss: 0.2110 - val_classification_2_loss: 0.5319 - val_classification_1_acc: 0.9150 - val_classification_2_acc: 0.7525\n",
      "Epoch 75/150\n",
      "400/400 [==============================] - 0s 380us/sample - loss: 0.7008 - classification_1_loss: 0.2070 - classification_2_loss: 0.4922 - classification_1_acc: 0.9175 - classification_2_acc: 0.7725 - val_loss: 0.7347 - val_classification_1_loss: 0.2099 - val_classification_2_loss: 0.5318 - val_classification_1_acc: 0.9175 - val_classification_2_acc: 0.7425\n",
      "Epoch 76/150\n",
      "400/400 [==============================] - 0s 335us/sample - loss: 0.6978 - classification_1_loss: 0.2086 - classification_2_loss: 0.4953 - classification_1_acc: 0.9175 - classification_2_acc: 0.7700 - val_loss: 0.7333 - val_classification_1_loss: 0.2093 - val_classification_2_loss: 0.5303 - val_classification_1_acc: 0.9150 - val_classification_2_acc: 0.7450\n",
      "Epoch 77/150\n",
      "400/400 [==============================] - 0s 458us/sample - loss: 0.6958 - classification_1_loss: 0.2008 - classification_2_loss: 0.4877 - classification_1_acc: 0.9175 - classification_2_acc: 0.7725 - val_loss: 0.7313 - val_classification_1_loss: 0.2077 - val_classification_2_loss: 0.5298 - val_classification_1_acc: 0.9200 - val_classification_2_acc: 0.7475\n",
      "Epoch 78/150\n",
      "400/400 [==============================] - 0s 377us/sample - loss: 0.6928 - classification_1_loss: 0.1980 - classification_2_loss: 0.4891 - classification_1_acc: 0.9175 - classification_2_acc: 0.7675 - val_loss: 0.7301 - val_classification_1_loss: 0.2073 - val_classification_2_loss: 0.5291 - val_classification_1_acc: 0.9200 - val_classification_2_acc: 0.7500\n",
      "Epoch 79/150\n",
      "400/400 [==============================] - 0s 384us/sample - loss: 0.6914 - classification_1_loss: 0.1986 - classification_2_loss: 0.4901 - classification_1_acc: 0.9175 - classification_2_acc: 0.7675 - val_loss: 0.7275 - val_classification_1_loss: 0.2053 - val_classification_2_loss: 0.5287 - val_classification_1_acc: 0.9225 - val_classification_2_acc: 0.7425\n",
      "Epoch 80/150\n",
      "400/400 [==============================] - 0s 453us/sample - loss: 0.6884 - classification_1_loss: 0.2026 - classification_2_loss: 0.4895 - classification_1_acc: 0.9200 - classification_2_acc: 0.7750 - val_loss: 0.7257 - val_classification_1_loss: 0.2041 - val_classification_2_loss: 0.5279 - val_classification_1_acc: 0.9200 - val_classification_2_acc: 0.7425\n",
      "Epoch 81/150\n",
      "400/400 [==============================] - 0s 403us/sample - loss: 0.6862 - classification_1_loss: 0.1952 - classification_2_loss: 0.4915 - classification_1_acc: 0.9175 - classification_2_acc: 0.7750 - val_loss: 0.7239 - val_classification_1_loss: 0.2023 - val_classification_2_loss: 0.5271 - val_classification_1_acc: 0.9250 - val_classification_2_acc: 0.7475\n",
      "Epoch 82/150\n",
      "400/400 [==============================] - 0s 413us/sample - loss: 0.6845 - classification_1_loss: 0.1987 - classification_2_loss: 0.4927 - classification_1_acc: 0.9175 - classification_2_acc: 0.7700 - val_loss: 0.7232 - val_classification_1_loss: 0.2019 - val_classification_2_loss: 0.5264 - val_classification_1_acc: 0.9200 - val_classification_2_acc: 0.7500\n",
      "Epoch 83/150\n",
      "400/400 [==============================] - 0s 369us/sample - loss: 0.6816 - classification_1_loss: 0.1964 - classification_2_loss: 0.4938 - classification_1_acc: 0.9200 - classification_2_acc: 0.7625 - val_loss: 0.7212 - val_classification_1_loss: 0.2009 - val_classification_2_loss: 0.5259 - val_classification_1_acc: 0.9200 - val_classification_2_acc: 0.7475\n",
      "Epoch 84/150\n",
      "400/400 [==============================] - 0s 402us/sample - loss: 0.6800 - classification_1_loss: 0.1924 - classification_2_loss: 0.4838 - classification_1_acc: 0.9175 - classification_2_acc: 0.7775 - val_loss: 0.7191 - val_classification_1_loss: 0.1995 - val_classification_2_loss: 0.5256 - val_classification_1_acc: 0.9225 - val_classification_2_acc: 0.7425\n",
      "Epoch 85/150\n",
      "400/400 [==============================] - 0s 373us/sample - loss: 0.6784 - classification_1_loss: 0.1946 - classification_2_loss: 0.4847 - classification_1_acc: 0.9150 - classification_2_acc: 0.7750 - val_loss: 0.7174 - val_classification_1_loss: 0.1980 - val_classification_2_loss: 0.5249 - val_classification_1_acc: 0.9250 - val_classification_2_acc: 0.7450\n",
      "Epoch 86/150\n",
      "400/400 [==============================] - 0s 372us/sample - loss: 0.6756 - classification_1_loss: 0.1943 - classification_2_loss: 0.4794 - classification_1_acc: 0.9200 - classification_2_acc: 0.7675 - val_loss: 0.7171 - val_classification_1_loss: 0.1984 - val_classification_2_loss: 0.5240 - val_classification_1_acc: 0.9250 - val_classification_2_acc: 0.7450\n",
      "Epoch 87/150\n",
      "400/400 [==============================] - 0s 294us/sample - loss: 0.6743 - classification_1_loss: 0.1946 - classification_2_loss: 0.4801 - classification_1_acc: 0.9225 - classification_2_acc: 0.7700 - val_loss: 0.7158 - val_classification_1_loss: 0.1970 - val_classification_2_loss: 0.5236 - val_classification_1_acc: 0.9250 - val_classification_2_acc: 0.7500\n",
      "Epoch 88/150\n",
      "400/400 [==============================] - 0s 323us/sample - loss: 0.6721 - classification_1_loss: 0.1916 - classification_2_loss: 0.4829 - classification_1_acc: 0.9225 - classification_2_acc: 0.7675 - val_loss: 0.7138 - val_classification_1_loss: 0.1962 - val_classification_2_loss: 0.5233 - val_classification_1_acc: 0.9250 - val_classification_2_acc: 0.7450\n"
     ]
    },
    {
     "name": "stdout",
     "output_type": "stream",
     "text": [
      "Epoch 89/150\n",
      "400/400 [==============================] - 0s 292us/sample - loss: 0.6707 - classification_1_loss: 0.1921 - classification_2_loss: 0.4864 - classification_1_acc: 0.9200 - classification_2_acc: 0.7750 - val_loss: 0.7116 - val_classification_1_loss: 0.1941 - val_classification_2_loss: 0.5224 - val_classification_1_acc: 0.9225 - val_classification_2_acc: 0.7425\n",
      "Epoch 90/150\n",
      "400/400 [==============================] - 0s 294us/sample - loss: 0.6709 - classification_1_loss: 0.1883 - classification_2_loss: 0.4809 - classification_1_acc: 0.9225 - classification_2_acc: 0.7550 - val_loss: 0.7125 - val_classification_1_loss: 0.1944 - val_classification_2_loss: 0.5221 - val_classification_1_acc: 0.9250 - val_classification_2_acc: 0.7475\n",
      "Epoch 91/150\n",
      "400/400 [==============================] - 0s 328us/sample - loss: 0.6667 - classification_1_loss: 0.1907 - classification_2_loss: 0.4757 - classification_1_acc: 0.9200 - classification_2_acc: 0.7650 - val_loss: 0.7093 - val_classification_1_loss: 0.1926 - val_classification_2_loss: 0.5215 - val_classification_1_acc: 0.9250 - val_classification_2_acc: 0.7425\n",
      "Epoch 92/150\n",
      "400/400 [==============================] - 0s 398us/sample - loss: 0.6642 - classification_1_loss: 0.1865 - classification_2_loss: 0.4775 - classification_1_acc: 0.9200 - classification_2_acc: 0.7700 - val_loss: 0.7083 - val_classification_1_loss: 0.1925 - val_classification_2_loss: 0.5211 - val_classification_1_acc: 0.9250 - val_classification_2_acc: 0.7400\n",
      "Epoch 93/150\n",
      "400/400 [==============================] - 0s 368us/sample - loss: 0.6637 - classification_1_loss: 0.1874 - classification_2_loss: 0.4719 - classification_1_acc: 0.9225 - classification_2_acc: 0.7675 - val_loss: 0.7085 - val_classification_1_loss: 0.1932 - val_classification_2_loss: 0.5206 - val_classification_1_acc: 0.9250 - val_classification_2_acc: 0.7425\n",
      "Epoch 94/150\n",
      "400/400 [==============================] - 0s 333us/sample - loss: 0.6613 - classification_1_loss: 0.1811 - classification_2_loss: 0.4717 - classification_1_acc: 0.9175 - classification_2_acc: 0.7675 - val_loss: 0.7059 - val_classification_1_loss: 0.1906 - val_classification_2_loss: 0.5202 - val_classification_1_acc: 0.9250 - val_classification_2_acc: 0.7425\n",
      "Epoch 95/150\n",
      "400/400 [==============================] - 0s 349us/sample - loss: 0.6603 - classification_1_loss: 0.1894 - classification_2_loss: 0.4739 - classification_1_acc: 0.9175 - classification_2_acc: 0.7675 - val_loss: 0.7037 - val_classification_1_loss: 0.1886 - val_classification_2_loss: 0.5197 - val_classification_1_acc: 0.9275 - val_classification_2_acc: 0.7450\n",
      "Epoch 96/150\n",
      "400/400 [==============================] - 0s 357us/sample - loss: 0.6589 - classification_1_loss: 0.1796 - classification_2_loss: 0.4729 - classification_1_acc: 0.9200 - classification_2_acc: 0.7675 - val_loss: 0.7036 - val_classification_1_loss: 0.1891 - val_classification_2_loss: 0.5194 - val_classification_1_acc: 0.9225 - val_classification_2_acc: 0.7450\n",
      "Epoch 97/150\n",
      "400/400 [==============================] - 0s 389us/sample - loss: 0.6571 - classification_1_loss: 0.1820 - classification_2_loss: 0.4752 - classification_1_acc: 0.9200 - classification_2_acc: 0.7675 - val_loss: 0.7031 - val_classification_1_loss: 0.1889 - val_classification_2_loss: 0.5191 - val_classification_1_acc: 0.9225 - val_classification_2_acc: 0.7450\n",
      "Epoch 98/150\n",
      "400/400 [==============================] - 0s 367us/sample - loss: 0.6552 - classification_1_loss: 0.1806 - classification_2_loss: 0.4711 - classification_1_acc: 0.9200 - classification_2_acc: 0.7625 - val_loss: 0.7013 - val_classification_1_loss: 0.1868 - val_classification_2_loss: 0.5185 - val_classification_1_acc: 0.9225 - val_classification_2_acc: 0.7500\n",
      "Epoch 99/150\n",
      "400/400 [==============================] - 0s 358us/sample - loss: 0.6544 - classification_1_loss: 0.1824 - classification_2_loss: 0.4744 - classification_1_acc: 0.9200 - classification_2_acc: 0.7650 - val_loss: 0.7000 - val_classification_1_loss: 0.1865 - val_classification_2_loss: 0.5183 - val_classification_1_acc: 0.9225 - val_classification_2_acc: 0.7425\n",
      "Epoch 100/150\n",
      "400/400 [==============================] - 0s 344us/sample - loss: 0.6526 - classification_1_loss: 0.1794 - classification_2_loss: 0.4732 - classification_1_acc: 0.9200 - classification_2_acc: 0.7700 - val_loss: 0.7005 - val_classification_1_loss: 0.1864 - val_classification_2_loss: 0.5180 - val_classification_1_acc: 0.9225 - val_classification_2_acc: 0.7475\n",
      "Epoch 101/150\n",
      "400/400 [==============================] - 0s 549us/sample - loss: 0.6502 - classification_1_loss: 0.1784 - classification_2_loss: 0.4706 - classification_1_acc: 0.9200 - classification_2_acc: 0.7650 - val_loss: 0.6982 - val_classification_1_loss: 0.1850 - val_classification_2_loss: 0.5176 - val_classification_1_acc: 0.9250 - val_classification_2_acc: 0.7450\n",
      "Epoch 102/150\n",
      "400/400 [==============================] - 0s 447us/sample - loss: 0.6492 - classification_1_loss: 0.1772 - classification_2_loss: 0.4659 - classification_1_acc: 0.9175 - classification_2_acc: 0.7675 - val_loss: 0.6961 - val_classification_1_loss: 0.1831 - val_classification_2_loss: 0.5173 - val_classification_1_acc: 0.9275 - val_classification_2_acc: 0.7375\n",
      "Epoch 103/150\n",
      "400/400 [==============================] - 0s 356us/sample - loss: 0.6489 - classification_1_loss: 0.1765 - classification_2_loss: 0.4733 - classification_1_acc: 0.9200 - classification_2_acc: 0.7675 - val_loss: 0.6952 - val_classification_1_loss: 0.1824 - val_classification_2_loss: 0.5170 - val_classification_1_acc: 0.9250 - val_classification_2_acc: 0.7400\n",
      "Epoch 104/150\n",
      "400/400 [==============================] - 0s 389us/sample - loss: 0.6461 - classification_1_loss: 0.1741 - classification_2_loss: 0.4712 - classification_1_acc: 0.9175 - classification_2_acc: 0.7650 - val_loss: 0.6959 - val_classification_1_loss: 0.1835 - val_classification_2_loss: 0.5166 - val_classification_1_acc: 0.9250 - val_classification_2_acc: 0.7400\n",
      "Epoch 105/150\n",
      "400/400 [==============================] - 0s 370us/sample - loss: 0.6449 - classification_1_loss: 0.1805 - classification_2_loss: 0.4725 - classification_1_acc: 0.9150 - classification_2_acc: 0.7700 - val_loss: 0.6957 - val_classification_1_loss: 0.1835 - val_classification_2_loss: 0.5163 - val_classification_1_acc: 0.9275 - val_classification_2_acc: 0.7400\n",
      "Epoch 106/150\n",
      "400/400 [==============================] - 0s 342us/sample - loss: 0.6439 - classification_1_loss: 0.1746 - classification_2_loss: 0.4725 - classification_1_acc: 0.9175 - classification_2_acc: 0.7650 - val_loss: 0.6930 - val_classification_1_loss: 0.1814 - val_classification_2_loss: 0.5161 - val_classification_1_acc: 0.9250 - val_classification_2_acc: 0.7400\n",
      "Epoch 107/150\n",
      "400/400 [==============================] - 0s 416us/sample - loss: 0.6431 - classification_1_loss: 0.1742 - classification_2_loss: 0.4702 - classification_1_acc: 0.9200 - classification_2_acc: 0.7700 - val_loss: 0.6915 - val_classification_1_loss: 0.1792 - val_classification_2_loss: 0.5158 - val_classification_1_acc: 0.9275 - val_classification_2_acc: 0.7400\n",
      "Epoch 108/150\n",
      "400/400 [==============================] - 0s 357us/sample - loss: 0.6416 - classification_1_loss: 0.1703 - classification_2_loss: 0.4654 - classification_1_acc: 0.9225 - classification_2_acc: 0.7650 - val_loss: 0.6918 - val_classification_1_loss: 0.1794 - val_classification_2_loss: 0.5158 - val_classification_1_acc: 0.9250 - val_classification_2_acc: 0.7425\n",
      "Epoch 109/150\n",
      "400/400 [==============================] - 0s 438us/sample - loss: 0.6400 - classification_1_loss: 0.1709 - classification_2_loss: 0.4626 - classification_1_acc: 0.9175 - classification_2_acc: 0.7700 - val_loss: 0.6912 - val_classification_1_loss: 0.1798 - val_classification_2_loss: 0.5155 - val_classification_1_acc: 0.9250 - val_classification_2_acc: 0.7375\n",
      "Epoch 110/150\n",
      "400/400 [==============================] - 0s 364us/sample - loss: 0.6389 - classification_1_loss: 0.1723 - classification_2_loss: 0.4669 - classification_1_acc: 0.9200 - classification_2_acc: 0.7700 - val_loss: 0.6904 - val_classification_1_loss: 0.1792 - val_classification_2_loss: 0.5153 - val_classification_1_acc: 0.9250 - val_classification_2_acc: 0.7400\n"
     ]
    },
    {
     "name": "stdout",
     "output_type": "stream",
     "text": [
      "Epoch 111/150\n",
      "400/400 [==============================] - 0s 397us/sample - loss: 0.6375 - classification_1_loss: 0.1718 - classification_2_loss: 0.4759 - classification_1_acc: 0.9200 - classification_2_acc: 0.7725 - val_loss: 0.6895 - val_classification_1_loss: 0.1789 - val_classification_2_loss: 0.5148 - val_classification_1_acc: 0.9250 - val_classification_2_acc: 0.7400\n",
      "Epoch 112/150\n",
      "400/400 [==============================] - 0s 413us/sample - loss: 0.6363 - classification_1_loss: 0.1713 - classification_2_loss: 0.4589 - classification_1_acc: 0.9200 - classification_2_acc: 0.7700 - val_loss: 0.6891 - val_classification_1_loss: 0.1782 - val_classification_2_loss: 0.5146 - val_classification_1_acc: 0.9250 - val_classification_2_acc: 0.7425\n",
      "Epoch 113/150\n",
      "400/400 [==============================] - 0s 402us/sample - loss: 0.6359 - classification_1_loss: 0.1689 - classification_2_loss: 0.4601 - classification_1_acc: 0.9200 - classification_2_acc: 0.7725 - val_loss: 0.6872 - val_classification_1_loss: 0.1766 - val_classification_2_loss: 0.5144 - val_classification_1_acc: 0.9250 - val_classification_2_acc: 0.7375\n",
      "Epoch 114/150\n",
      "400/400 [==============================] - 0s 307us/sample - loss: 0.6344 - classification_1_loss: 0.1684 - classification_2_loss: 0.4614 - classification_1_acc: 0.9225 - classification_2_acc: 0.7675 - val_loss: 0.6863 - val_classification_1_loss: 0.1755 - val_classification_2_loss: 0.5140 - val_classification_1_acc: 0.9275 - val_classification_2_acc: 0.7425\n",
      "Epoch 115/150\n",
      "400/400 [==============================] - 0s 376us/sample - loss: 0.6333 - classification_1_loss: 0.1696 - classification_2_loss: 0.4689 - classification_1_acc: 0.9225 - classification_2_acc: 0.7600 - val_loss: 0.6867 - val_classification_1_loss: 0.1757 - val_classification_2_loss: 0.5141 - val_classification_1_acc: 0.9275 - val_classification_2_acc: 0.7400\n",
      "Epoch 116/150\n",
      "400/400 [==============================] - 0s 376us/sample - loss: 0.6318 - classification_1_loss: 0.1705 - classification_2_loss: 0.4737 - classification_1_acc: 0.9225 - classification_2_acc: 0.7650 - val_loss: 0.6858 - val_classification_1_loss: 0.1757 - val_classification_2_loss: 0.5138 - val_classification_1_acc: 0.9275 - val_classification_2_acc: 0.7425\n",
      "Epoch 117/150\n",
      "400/400 [==============================] - 0s 411us/sample - loss: 0.6311 - classification_1_loss: 0.1662 - classification_2_loss: 0.4661 - classification_1_acc: 0.9225 - classification_2_acc: 0.7650 - val_loss: 0.6845 - val_classification_1_loss: 0.1744 - val_classification_2_loss: 0.5136 - val_classification_1_acc: 0.9300 - val_classification_2_acc: 0.7425\n",
      "Epoch 118/150\n",
      "400/400 [==============================] - 0s 345us/sample - loss: 0.6296 - classification_1_loss: 0.1649 - classification_2_loss: 0.4640 - classification_1_acc: 0.9225 - classification_2_acc: 0.7675 - val_loss: 0.6850 - val_classification_1_loss: 0.1753 - val_classification_2_loss: 0.5134 - val_classification_1_acc: 0.9300 - val_classification_2_acc: 0.7375\n",
      "Epoch 119/150\n",
      "400/400 [==============================] - 0s 377us/sample - loss: 0.6296 - classification_1_loss: 0.1682 - classification_2_loss: 0.4627 - classification_1_acc: 0.9225 - classification_2_acc: 0.7750 - val_loss: 0.6836 - val_classification_1_loss: 0.1742 - val_classification_2_loss: 0.5134 - val_classification_1_acc: 0.9300 - val_classification_2_acc: 0.7375\n",
      "Epoch 120/150\n",
      "400/400 [==============================] - 0s 366us/sample - loss: 0.6278 - classification_1_loss: 0.1654 - classification_2_loss: 0.4576 - classification_1_acc: 0.9225 - classification_2_acc: 0.7700 - val_loss: 0.6832 - val_classification_1_loss: 0.1733 - val_classification_2_loss: 0.5130 - val_classification_1_acc: 0.9300 - val_classification_2_acc: 0.7400\n",
      "Epoch 121/150\n",
      "400/400 [==============================] - 0s 418us/sample - loss: 0.6266 - classification_1_loss: 0.1636 - classification_2_loss: 0.4602 - classification_1_acc: 0.9225 - classification_2_acc: 0.7650 - val_loss: 0.6825 - val_classification_1_loss: 0.1727 - val_classification_2_loss: 0.5129 - val_classification_1_acc: 0.9325 - val_classification_2_acc: 0.7400\n",
      "Epoch 122/150\n",
      "400/400 [==============================] - 0s 388us/sample - loss: 0.6273 - classification_1_loss: 0.1670 - classification_2_loss: 0.4550 - classification_1_acc: 0.9225 - classification_2_acc: 0.7675 - val_loss: 0.6835 - val_classification_1_loss: 0.1741 - val_classification_2_loss: 0.5128 - val_classification_1_acc: 0.9325 - val_classification_2_acc: 0.7400\n",
      "Epoch 123/150\n",
      "400/400 [==============================] - 0s 339us/sample - loss: 0.6263 - classification_1_loss: 0.1666 - classification_2_loss: 0.4632 - classification_1_acc: 0.9250 - classification_2_acc: 0.7700 - val_loss: 0.6805 - val_classification_1_loss: 0.1706 - val_classification_2_loss: 0.5126 - val_classification_1_acc: 0.9350 - val_classification_2_acc: 0.7400\n",
      "Epoch 124/150\n",
      "400/400 [==============================] - 0s 404us/sample - loss: 0.6246 - classification_1_loss: 0.1624 - classification_2_loss: 0.4653 - classification_1_acc: 0.9250 - classification_2_acc: 0.7700 - val_loss: 0.6794 - val_classification_1_loss: 0.1704 - val_classification_2_loss: 0.5125 - val_classification_1_acc: 0.9325 - val_classification_2_acc: 0.7375\n",
      "Epoch 125/150\n",
      "400/400 [==============================] - 0s 565us/sample - loss: 0.6237 - classification_1_loss: 0.1583 - classification_2_loss: 0.4648 - classification_1_acc: 0.9250 - classification_2_acc: 0.7675 - val_loss: 0.6814 - val_classification_1_loss: 0.1714 - val_classification_2_loss: 0.5126 - val_classification_1_acc: 0.9350 - val_classification_2_acc: 0.7450\n",
      "Epoch 126/150\n",
      "400/400 [==============================] - 0s 587us/sample - loss: 0.6236 - classification_1_loss: 0.1660 - classification_2_loss: 0.4643 - classification_1_acc: 0.9225 - classification_2_acc: 0.7625 - val_loss: 0.6810 - val_classification_1_loss: 0.1713 - val_classification_2_loss: 0.5122 - val_classification_1_acc: 0.9325 - val_classification_2_acc: 0.7475\n",
      "Epoch 127/150\n",
      "400/400 [==============================] - 0s 427us/sample - loss: 0.6221 - classification_1_loss: 0.1631 - classification_2_loss: 0.4575 - classification_1_acc: 0.9225 - classification_2_acc: 0.7675 - val_loss: 0.6794 - val_classification_1_loss: 0.1708 - val_classification_2_loss: 0.5118 - val_classification_1_acc: 0.9325 - val_classification_2_acc: 0.7375\n",
      "Epoch 128/150\n",
      "400/400 [==============================] - 0s 366us/sample - loss: 0.6207 - classification_1_loss: 0.1596 - classification_2_loss: 0.4597 - classification_1_acc: 0.9250 - classification_2_acc: 0.7675 - val_loss: 0.6766 - val_classification_1_loss: 0.1680 - val_classification_2_loss: 0.5119 - val_classification_1_acc: 0.9375 - val_classification_2_acc: 0.7350\n",
      "Epoch 129/150\n",
      "400/400 [==============================] - 0s 376us/sample - loss: 0.6202 - classification_1_loss: 0.1671 - classification_2_loss: 0.4601 - classification_1_acc: 0.9250 - classification_2_acc: 0.7700 - val_loss: 0.6762 - val_classification_1_loss: 0.1676 - val_classification_2_loss: 0.5118 - val_classification_1_acc: 0.9375 - val_classification_2_acc: 0.7425\n",
      "Epoch 130/150\n",
      "400/400 [==============================] - 0s 401us/sample - loss: 0.6225 - classification_1_loss: 0.1619 - classification_2_loss: 0.4536 - classification_1_acc: 0.9200 - classification_2_acc: 0.7725 - val_loss: 0.6796 - val_classification_1_loss: 0.1709 - val_classification_2_loss: 0.5116 - val_classification_1_acc: 0.9350 - val_classification_2_acc: 0.7450\n",
      "Epoch 131/150\n",
      "400/400 [==============================] - 0s 448us/sample - loss: 0.6182 - classification_1_loss: 0.1585 - classification_2_loss: 0.4626 - classification_1_acc: 0.9225 - classification_2_acc: 0.7675 - val_loss: 0.6772 - val_classification_1_loss: 0.1678 - val_classification_2_loss: 0.5117 - val_classification_1_acc: 0.9375 - val_classification_2_acc: 0.7425\n",
      "Epoch 132/150\n",
      "400/400 [==============================] - 0s 434us/sample - loss: 0.6226 - classification_1_loss: 0.1565 - classification_2_loss: 0.4556 - classification_1_acc: 0.9250 - classification_2_acc: 0.7675 - val_loss: 0.6747 - val_classification_1_loss: 0.1661 - val_classification_2_loss: 0.5115 - val_classification_1_acc: 0.9375 - val_classification_2_acc: 0.7425\n"
     ]
    },
    {
     "name": "stdout",
     "output_type": "stream",
     "text": [
      "Epoch 133/150\n",
      "400/400 [==============================] - 0s 533us/sample - loss: 0.6169 - classification_1_loss: 0.1593 - classification_2_loss: 0.4571 - classification_1_acc: 0.9250 - classification_2_acc: 0.7700 - val_loss: 0.6754 - val_classification_1_loss: 0.1670 - val_classification_2_loss: 0.5113 - val_classification_1_acc: 0.9375 - val_classification_2_acc: 0.7425\n",
      "Epoch 134/150\n",
      "400/400 [==============================] - 0s 411us/sample - loss: 0.6158 - classification_1_loss: 0.1540 - classification_2_loss: 0.4635 - classification_1_acc: 0.9250 - classification_2_acc: 0.7675 - val_loss: 0.6761 - val_classification_1_loss: 0.1677 - val_classification_2_loss: 0.5113 - val_classification_1_acc: 0.9375 - val_classification_2_acc: 0.7425\n",
      "Epoch 135/150\n",
      "400/400 [==============================] - 0s 353us/sample - loss: 0.6180 - classification_1_loss: 0.1551 - classification_2_loss: 0.4575 - classification_1_acc: 0.9225 - classification_2_acc: 0.7575 - val_loss: 0.6779 - val_classification_1_loss: 0.1673 - val_classification_2_loss: 0.5122 - val_classification_1_acc: 0.9375 - val_classification_2_acc: 0.7300\n",
      "Epoch 136/150\n",
      "400/400 [==============================] - 0s 375us/sample - loss: 0.6144 - classification_1_loss: 0.1570 - classification_2_loss: 0.4521 - classification_1_acc: 0.9250 - classification_2_acc: 0.7750 - val_loss: 0.6751 - val_classification_1_loss: 0.1665 - val_classification_2_loss: 0.5112 - val_classification_1_acc: 0.9375 - val_classification_2_acc: 0.7450\n",
      "Epoch 137/150\n",
      "400/400 [==============================] - 0s 418us/sample - loss: 0.6136 - classification_1_loss: 0.1558 - classification_2_loss: 0.4537 - classification_1_acc: 0.9250 - classification_2_acc: 0.7700 - val_loss: 0.6734 - val_classification_1_loss: 0.1653 - val_classification_2_loss: 0.5111 - val_classification_1_acc: 0.9375 - val_classification_2_acc: 0.7450\n",
      "Epoch 138/150\n",
      "400/400 [==============================] - 0s 448us/sample - loss: 0.6134 - classification_1_loss: 0.1567 - classification_2_loss: 0.4540 - classification_1_acc: 0.9250 - classification_2_acc: 0.7700 - val_loss: 0.6728 - val_classification_1_loss: 0.1644 - val_classification_2_loss: 0.5111 - val_classification_1_acc: 0.9400 - val_classification_2_acc: 0.7450\n",
      "Epoch 139/150\n",
      "400/400 [==============================] - 0s 576us/sample - loss: 0.6125 - classification_1_loss: 0.1541 - classification_2_loss: 0.4569 - classification_1_acc: 0.9250 - classification_2_acc: 0.7700 - val_loss: 0.6726 - val_classification_1_loss: 0.1640 - val_classification_2_loss: 0.5111 - val_classification_1_acc: 0.9400 - val_classification_2_acc: 0.7425\n",
      "Epoch 140/150\n",
      "400/400 [==============================] - 0s 640us/sample - loss: 0.6123 - classification_1_loss: 0.1583 - classification_2_loss: 0.4573 - classification_1_acc: 0.9250 - classification_2_acc: 0.7675 - val_loss: 0.6741 - val_classification_1_loss: 0.1653 - val_classification_2_loss: 0.5110 - val_classification_1_acc: 0.9375 - val_classification_2_acc: 0.7450\n",
      "Epoch 141/150\n",
      "400/400 [==============================] - 0s 478us/sample - loss: 0.6122 - classification_1_loss: 0.1553 - classification_2_loss: 0.4669 - classification_1_acc: 0.9250 - classification_2_acc: 0.7725 - val_loss: 0.6729 - val_classification_1_loss: 0.1651 - val_classification_2_loss: 0.5108 - val_classification_1_acc: 0.9375 - val_classification_2_acc: 0.7450\n",
      "Epoch 142/150\n",
      "400/400 [==============================] - 0s 494us/sample - loss: 0.6103 - classification_1_loss: 0.1573 - classification_2_loss: 0.4555 - classification_1_acc: 0.9250 - classification_2_acc: 0.7700 - val_loss: 0.6729 - val_classification_1_loss: 0.1640 - val_classification_2_loss: 0.5110 - val_classification_1_acc: 0.9375 - val_classification_2_acc: 0.7425\n",
      "Epoch 143/150\n",
      "400/400 [==============================] - 0s 529us/sample - loss: 0.6096 - classification_1_loss: 0.1541 - classification_2_loss: 0.4571 - classification_1_acc: 0.9250 - classification_2_acc: 0.7775 - val_loss: 0.6716 - val_classification_1_loss: 0.1630 - val_classification_2_loss: 0.5109 - val_classification_1_acc: 0.9375 - val_classification_2_acc: 0.7425\n",
      "Epoch 144/150\n",
      "400/400 [==============================] - 0s 464us/sample - loss: 0.6089 - classification_1_loss: 0.1572 - classification_2_loss: 0.4657 - classification_1_acc: 0.9275 - classification_2_acc: 0.7725 - val_loss: 0.6722 - val_classification_1_loss: 0.1635 - val_classification_2_loss: 0.5108 - val_classification_1_acc: 0.9375 - val_classification_2_acc: 0.7375\n",
      "Epoch 145/150\n",
      "400/400 [==============================] - 0s 564us/sample - loss: 0.6094 - classification_1_loss: 0.1581 - classification_2_loss: 0.4625 - classification_1_acc: 0.9250 - classification_2_acc: 0.7700 - val_loss: 0.6713 - val_classification_1_loss: 0.1638 - val_classification_2_loss: 0.5104 - val_classification_1_acc: 0.9375 - val_classification_2_acc: 0.7450\n",
      "Epoch 146/150\n",
      "400/400 [==============================] - 0s 490us/sample - loss: 0.6079 - classification_1_loss: 0.1550 - classification_2_loss: 0.4507 - classification_1_acc: 0.9250 - classification_2_acc: 0.7725 - val_loss: 0.6709 - val_classification_1_loss: 0.1631 - val_classification_2_loss: 0.5102 - val_classification_1_acc: 0.9375 - val_classification_2_acc: 0.7425\n",
      "Epoch 147/150\n",
      "400/400 [==============================] - 0s 458us/sample - loss: 0.6077 - classification_1_loss: 0.1505 - classification_2_loss: 0.4534 - classification_1_acc: 0.9275 - classification_2_acc: 0.7725 - val_loss: 0.6719 - val_classification_1_loss: 0.1619 - val_classification_2_loss: 0.5112 - val_classification_1_acc: 0.9375 - val_classification_2_acc: 0.7250\n",
      "Epoch 148/150\n",
      "400/400 [==============================] - 0s 428us/sample - loss: 0.6077 - classification_1_loss: 0.1536 - classification_2_loss: 0.4559 - classification_1_acc: 0.9275 - classification_2_acc: 0.7675 - val_loss: 0.6716 - val_classification_1_loss: 0.1625 - val_classification_2_loss: 0.5107 - val_classification_1_acc: 0.9375 - val_classification_2_acc: 0.7350\n",
      "Epoch 149/150\n",
      "400/400 [==============================] - 0s 492us/sample - loss: 0.6058 - classification_1_loss: 0.1501 - classification_2_loss: 0.4515 - classification_1_acc: 0.9300 - classification_2_acc: 0.7775 - val_loss: 0.6692 - val_classification_1_loss: 0.1616 - val_classification_2_loss: 0.5102 - val_classification_1_acc: 0.9375 - val_classification_2_acc: 0.7425\n",
      "Epoch 150/150\n",
      "400/400 [==============================] - 0s 401us/sample - loss: 0.6056 - classification_1_loss: 0.1572 - classification_2_loss: 0.4506 - classification_1_acc: 0.9275 - classification_2_acc: 0.7750 - val_loss: 0.6694 - val_classification_1_loss: 0.1612 - val_classification_2_loss: 0.5102 - val_classification_1_acc: 0.9400 - val_classification_2_acc: 0.7400\n"
     ]
    }
   ],
   "source": [
    "history = model.fit(\n",
    "    train_X,\n",
    "    [train_a_y, train_b_y],\n",
    "    validation_data=[test_X, [test_a_y, test_b_y]],\n",
    "    epochs=150,\n",
    "    verbose=1\n",
    ")"
   ]
  },
  {
   "cell_type": "code",
   "execution_count": 18,
   "metadata": {},
   "outputs": [
    {
     "data": {
      "text/plain": [
       "dict_keys(['loss', 'classification_1_loss', 'classification_2_loss', 'classification_1_acc', 'classification_2_acc', 'val_loss', 'val_classification_1_loss', 'val_classification_2_loss', 'val_classification_1_acc', 'val_classification_2_acc'])"
      ]
     },
     "execution_count": 18,
     "metadata": {},
     "output_type": "execute_result"
    }
   ],
   "source": [
    "# the keys in the history object\n",
    "history.history.keys()"
   ]
  },
  {
   "cell_type": "code",
   "execution_count": 19,
   "metadata": {},
   "outputs": [
    {
     "data": {
      "image/png": "[encoded data removed]",
      "text/plain": [
       "<Figure size 432x288 with 1 Axes>"
      ]
     },
     "metadata": {
      "needs_background": "light"
     },
     "output_type": "display_data"
    }
   ],
   "source": [
    "# summarize history for loss\n",
    "plt.plot(history.history['loss'])\n",
    "plt.plot(history.history['val_loss'])\n",
    "plt.title('model loss')\n",
    "plt.ylabel('loss')\n",
    "plt.xlabel('epoch')\n",
    "plt.legend(['train', 'test'], loc='upper left')\n",
    "plt.show()"
   ]
  },
  {
   "cell_type": "code",
   "execution_count": 20,
   "metadata": {},
   "outputs": [
    {
     "data": {
      "image/png": "[encoded data removed]",
      "text/plain": [
       "<Figure size 432x288 with 1 Axes>"
      ]
     },
     "metadata": {
      "needs_background": "light"
     },
     "output_type": "display_data"
    },
    {
     "data": {
      "image/png": "[encoded data removed]",
      "text/plain": [
       "<Figure size 432x288 with 1 Axes>"
      ]
     },
     "metadata": {
      "needs_background": "light"
     },
     "output_type": "display_data"
    }
   ],
   "source": [
    "# summarize history for accuracy\n",
    "plt.plot(history.history['classification_1_acc'])\n",
    "plt.plot(history.history['val_classification_1_acc'])\n",
    "plt.title('model accuracy - output 1')\n",
    "plt.ylabel('accuracy')\n",
    "plt.xlabel('epoch')\n",
    "plt.legend(['train', 'test'], loc='upper left')\n",
    "plt.show()\n",
    "\n",
    "plt.plot(history.history['classification_2_acc'])\n",
    "plt.plot(history.history['val_classification_2_acc'])\n",
    "plt.title('model accuracy - output 2')\n",
    "plt.ylabel('accuracy')\n",
    "plt.xlabel('epoch')\n",
    "plt.legend(['train', 'test'], loc='upper left')\n",
    "plt.show()"
   ]
  },
  {
   "cell_type": "markdown",
   "metadata": {},
   "source": [
    "**Questions:**\n",
    "* Does it surprise you that the loss for label 1 is smaller than the loss for label 2?    \n",
    "* Quick side check... do we overtrain?    "
   ]
  },
  {
   "cell_type": "markdown",
   "metadata": {},
   "source": [
    "### 5. Custom Layers\n",
    "\n",
    "Let's define a simple custom layer which is nothing but an affine transformation followed by a relu activation. We need to define:\n",
    "* \\_\\_init\\_\\_()      \n",
    "* build()   \n",
    "* call()   \n",
    "* compute_output_shape()   "
   ]
  },
  {
   "cell_type": "code",
   "execution_count": 21,
   "metadata": {},
   "outputs": [],
   "source": [
    "from tensorflow.keras import backend as K\n",
    "from tensorflow.keras.layers import Layer\n",
    "\n",
    "class MyStupidDenseLayer(Layer):\n",
    "\n",
    "    def __init__(self, output_dim, **kwargs):   \n",
    "        self.output_dim = output_dim\n",
    "        \n",
    "        super(MyStupidDenseLayer, self).__init__(**kwargs)\n",
    "\n",
    "    def build(self, input_shape):\n",
    "        # Create a trainable weight variable for this layer.\n",
    "        self.W = self.add_variable(\"W\",\n",
    "                                    shape=[int(input_shape[1]),self.output_dim], \n",
    "                                   initializer=tf.keras.initializers.GlorotNormal(),\n",
    "                                   trainable=True)\n",
    "        self.b = self.add_variable(\"b\",\n",
    "                                    shape=[self.output_dim, ], \n",
    "                                   initializer=tf.initializers.zeros(),\n",
    "                                   trainable=True)\n",
    "        super(MyStupidDenseLayer, self).build(input_shape)  # Be sure to call this at the end\n",
    "\n",
    "    def call(self, x):\n",
    "        return tf.nn.relu(tf.tensordot(x, self.W, axes=[[1],[0]]) + self.b)\n",
    "\n",
    "    def compute_output_shape(self, input_shape):\n",
    "        return (input_shape[0], self.output_dim)"
   ]
  },
  {
   "cell_type": "markdown",
   "metadata": {},
   "source": [
    "Let's use our custom layer in the same architecture. "
   ]
  },
  {
   "cell_type": "code",
   "execution_count": 22,
   "metadata": {},
   "outputs": [
    {
     "name": "stdout",
     "output_type": "stream",
     "text": [
      "WARNING:tensorflow:From <ipython-input-21-3858baec01ee>:16: Layer.add_variable (from tensorflow.python.keras.engine.base_layer) is deprecated and will be removed in a future version.\n",
      "Instructions for updating:\n",
      "Please use `layer.add_weight` method instead.\n"
     ]
    }
   ],
   "source": [
    "# Define Input layer(s)\n",
    "input_numbers = tf.keras.layers.Input(shape=(10,), name=\"input_numbers\")\n",
    "\n",
    "# Define separate hidden layers and acting on (same!) input\n",
    "dense_layer_1 = MyStupidDenseLayer(10, name='dense_1')\n",
    "dense_layer_2 = MyStupidDenseLayer(10, name='dense_2')\n",
    "\n",
    "dense_output_1 = dense_layer_1(input_numbers)\n",
    "dense_output_2 = dense_layer_2(input_numbers)\n",
    "\n",
    "\n",
    "\n",
    "# Define classification layer and act on previous output to classify examples\n",
    "classification_layer_1 = tf.keras.layers.Dense(1, \n",
    "                            activation='sigmoid', name='classification_1')\n",
    "\n",
    "classification_layer_2 = tf.keras.layers.Dense(1, \n",
    "                            activation='sigmoid', name='classification_2')\n",
    "\n",
    "\n",
    "classification_output_1 = classification_layer_1(dense_output_1)\n",
    "classification_output_2 = classification_layer_2(dense_output_2)\n",
    "\n",
    "\n",
    "\n",
    "# Build and compile model\n",
    "\n",
    "model_input = input_numbers\n",
    "model_output = [classification_output_1, classification_output_2]\n",
    "losses = ['binary_crossentropy', 'binary_crossentropy']\n",
    "metrics = ['acc', 'acc']\n",
    "\n",
    "model = tf.keras.models.Model(model_input, model_output)\n",
    "model.compile(loss=losses,  optimizer='adam', metrics=metrics)\n",
    "\n",
    "\n"
   ]
  },
  {
   "cell_type": "code",
   "execution_count": 23,
   "metadata": {},
   "outputs": [
    {
     "name": "stdout",
     "output_type": "stream",
     "text": [
      "Train on 400 samples, validate on 400 samples\n",
      "400/400 [==============================] - 0s 451us/sample - loss: 0.6234 - classification_1_loss: 0.1622 - classification_2_loss: 0.4624 - classification_1_acc: 0.9275 - classification_2_acc: 0.7575 - val_loss: 0.6792 - val_classification_1_loss: 0.1651 - val_classification_2_loss: 0.5180 - val_classification_1_acc: 0.9400 - val_classification_2_acc: 0.7400\n"
     ]
    },
    {
     "data": {
      "text/plain": [
       "<tensorflow.python.keras.callbacks.History at 0x7ff8c804ed90>"
      ]
     },
     "execution_count": 23,
     "metadata": {},
     "output_type": "execute_result"
    }
   ],
   "source": [
    "model.fit(\n",
    "    train_X,\n",
    "    [train_a_y, train_b_y],\n",
    "    validation_data=[test_X, [test_a_y, test_b_y]],\n",
    "    epochs=149,\n",
    "    verbose=0\n",
    ")\n",
    "\n",
    "model.fit(\n",
    "    train_X,\n",
    "    [train_a_y, train_b_y],\n",
    "    validation_data=[test_X, [test_a_y, test_b_y]],\n",
    "    epochs=1,\n",
    "    verbose=1\n",
    ")"
   ]
  },
  {
   "cell_type": "markdown",
   "metadata": {},
   "source": [
    "Close enough. So the custom layer works exactly as expected.\n",
    "\n",
    "\n",
    "### 6. Sharing & Freezing Weights \n",
    "\n",
    "\n",
    "Let's define an identical model. The weights for this model will be re-initialized, so upon training for 1 epoch the loss will be much higher than after 150 epochs for the original model: "
   ]
  },
  {
   "cell_type": "code",
   "execution_count": 24,
   "metadata": {},
   "outputs": [],
   "source": [
    "# Define Input layer(s)\n",
    "input_numbers = tf.keras.layers.Input(shape=(10,), name=\"input_numbers\")\n",
    "\n",
    "# Define separate hidden layers and acting on (same!) input\n",
    "dense_layer_1 = MyStupidDenseLayer(10, name='dense_1')\n",
    "dense_layer_2 = MyStupidDenseLayer(10, name='dense_2')\n",
    "\n",
    "dense_output_1 = dense_layer_1(input_numbers)\n",
    "dense_output_2 = dense_layer_2(input_numbers)\n",
    "\n",
    "\n",
    "\n",
    "# Define classification layer and act on previous output to classify examples\n",
    "classification_layer_1 = tf.keras.layers.Dense(1, \n",
    "                            activation='sigmoid', name='classification_1')\n",
    "\n",
    "classification_layer_2 = tf.keras.layers.Dense(1, \n",
    "                            activation='sigmoid', name='classification_2')\n",
    "\n",
    "\n",
    "classification_output_1 = classification_layer_1(dense_output_1)\n",
    "classification_output_2 = classification_layer_2(dense_output_2)\n",
    "\n",
    "\n",
    "\n",
    "# Build and compile model\n",
    "\n",
    "model_input = input_numbers\n",
    "model_output = [classification_output_1, classification_output_2]\n",
    "losses = ['binary_crossentropy', 'binary_crossentropy']\n",
    "metrics = ['acc', 'acc']\n",
    "\n",
    "model_mirror = tf.keras.models.Model(model_input, model_output)\n",
    "model_mirror.compile(loss=losses,  optimizer='adam', metrics=metrics)\n",
    "\n",
    "\n"
   ]
  },
  {
   "cell_type": "code",
   "execution_count": 25,
   "metadata": {},
   "outputs": [
    {
     "name": "stdout",
     "output_type": "stream",
     "text": [
      "Train on 400 samples, validate on 400 samples\n",
      "400/400 [==============================] - 1s 4ms/sample - loss: 1.4105 - classification_1_loss: 0.6624 - classification_2_loss: 0.7464 - classification_1_acc: 0.6275 - classification_2_acc: 0.4150 - val_loss: 1.3963 - val_classification_1_loss: 0.6633 - val_classification_2_loss: 0.7272 - val_classification_1_acc: 0.6050 - val_classification_2_acc: 0.4275\n"
     ]
    },
    {
     "data": {
      "text/plain": [
       "<tensorflow.python.keras.callbacks.History at 0x7ff8c024cf10>"
      ]
     },
     "execution_count": 25,
     "metadata": {},
     "output_type": "execute_result"
    }
   ],
   "source": [
    "model_mirror.fit(\n",
    "    train_X,\n",
    "    [train_a_y, train_b_y],\n",
    "    validation_data=[test_X, [test_a_y, test_b_y]],\n",
    "    epochs=1,\n",
    "    verbose=1\n",
    ")"
   ]
  },
  {
   "cell_type": "markdown",
   "metadata": {},
   "source": [
    "Indeed, this model would make very different predictions - the loss is ~1.4 vs ~0.6. No surprise, obviously, as this model has not been trained.\n",
    "\n",
    "What if we manually set the the weights of the second model to the weights of the first? Let's look at the layers for both models and then copy the weights:"
   ]
  },
  {
   "cell_type": "code",
   "execution_count": 26,
   "metadata": {},
   "outputs": [
    {
     "data": {
      "text/plain": [
       "[<tensorflow.python.keras.engine.input_layer.InputLayer at 0x7ff8c07c72d0>,\n",
       " <__main__.MyStupidDenseLayer at 0x7ff8c077d390>,\n",
       " <__main__.MyStupidDenseLayer at 0x7ff8c077d190>,\n",
       " <tensorflow.python.keras.layers.core.Dense at 0x7ff8c0722250>,\n",
       " <tensorflow.python.keras.layers.core.Dense at 0x7ff8c0796d50>]"
      ]
     },
     "execution_count": 26,
     "metadata": {},
     "output_type": "execute_result"
    }
   ],
   "source": [
    "model.layers"
   ]
  },
  {
   "cell_type": "markdown",
   "metadata": {},
   "source": [
    "Let's look at one layer in more detail:"
   ]
  },
  {
   "cell_type": "code",
   "execution_count": 27,
   "metadata": {},
   "outputs": [
    {
     "data": {
      "text/plain": [
       "2"
      ]
     },
     "execution_count": 27,
     "metadata": {},
     "output_type": "execute_result"
    }
   ],
   "source": [
    "len(model.layers[1].get_weights())"
   ]
  },
  {
   "cell_type": "markdown",
   "metadata": {},
   "source": [
    "Why would that be? No magic.. weights and biases of layer!"
   ]
  },
  {
   "cell_type": "code",
   "execution_count": 28,
   "metadata": {},
   "outputs": [
    {
     "data": {
      "text/plain": [
       "(10, 10)"
      ]
     },
     "execution_count": 28,
     "metadata": {},
     "output_type": "execute_result"
    }
   ],
   "source": [
    "np.shape(model.layers[1].get_weights()[0])"
   ]
  },
  {
   "cell_type": "code",
   "execution_count": 29,
   "metadata": {},
   "outputs": [
    {
     "data": {
      "text/plain": [
       "(10,)"
      ]
     },
     "execution_count": 29,
     "metadata": {},
     "output_type": "execute_result"
    }
   ],
   "source": [
    "np.shape(model.layers[1].get_weights()[1])"
   ]
  },
  {
   "cell_type": "markdown",
   "metadata": {},
   "source": [
    "Cool. What is the name of the layer?"
   ]
  },
  {
   "cell_type": "code",
   "execution_count": 30,
   "metadata": {},
   "outputs": [
    {
     "data": {
      "text/plain": [
       "'dense_1'"
      ]
     },
     "execution_count": 30,
     "metadata": {},
     "output_type": "execute_result"
    }
   ],
   "source": [
    "model.layers[1].name"
   ]
  },
  {
   "cell_type": "markdown",
   "metadata": {},
   "source": [
    "Correct. Is it trainable?"
   ]
  },
  {
   "cell_type": "code",
   "execution_count": 31,
   "metadata": {},
   "outputs": [
    {
     "data": {
      "text/plain": [
       "True"
      ]
     },
     "execution_count": 31,
     "metadata": {},
     "output_type": "execute_result"
    }
   ],
   "source": [
    "model.layers[1].trainable"
   ]
  },
  {
   "cell_type": "markdown",
   "metadata": {},
   "source": [
    "Great. Are the layers of the second model essentially the same?"
   ]
  },
  {
   "cell_type": "code",
   "execution_count": 32,
   "metadata": {},
   "outputs": [
    {
     "data": {
      "text/plain": [
       "[<tensorflow.python.keras.engine.input_layer.InputLayer at 0x7ff8c0785c90>,\n",
       " <__main__.MyStupidDenseLayer at 0x7ff8c0267510>,\n",
       " <__main__.MyStupidDenseLayer at 0x7ff8c0267590>,\n",
       " <tensorflow.python.keras.layers.core.Dense at 0x7ff8c0267ad0>,\n",
       " <tensorflow.python.keras.layers.core.Dense at 0x7ff8c0267c10>]"
      ]
     },
     "execution_count": 32,
     "metadata": {},
     "output_type": "execute_result"
    }
   ],
   "source": [
    "model_mirror.layers"
   ]
  },
  {
   "cell_type": "markdown",
   "metadata": {},
   "source": [
    "Yup. (We could look at shapes, etc, but won't do that now.) Now we set the second model's weights to equal the first model's trained weights:"
   ]
  },
  {
   "cell_type": "code",
   "execution_count": 33,
   "metadata": {},
   "outputs": [],
   "source": [
    "model_mirror.layers[1].set_weights(model.layers[1].get_weights())\n",
    "model_mirror.layers[2].set_weights(model.layers[2].get_weights())\n",
    "model_mirror.layers[3].set_weights(model.layers[3].get_weights())\n",
    "model_mirror.layers[4].set_weights(model.layers[4].get_weights())"
   ]
  },
  {
   "cell_type": "markdown",
   "metadata": {},
   "source": [
    "**Question:** Why don't we set the weights for layer 0?\n",
    "\n",
    "Okay. What is the loss now for the mirror model? "
   ]
  },
  {
   "cell_type": "code",
   "execution_count": 34,
   "metadata": {},
   "outputs": [
    {
     "name": "stdout",
     "output_type": "stream",
     "text": [
      "Train on 400 samples, validate on 400 samples\n",
      "400/400 [==============================] - 0s 462us/sample - loss: 0.6237 - classification_1_loss: 0.1559 - classification_2_loss: 0.4626 - classification_1_acc: 0.9250 - classification_2_acc: 0.7550 - val_loss: 0.6807 - val_classification_1_loss: 0.1675 - val_classification_2_loss: 0.5178 - val_classification_1_acc: 0.9350 - val_classification_2_acc: 0.7400\n"
     ]
    },
    {
     "data": {
      "text/plain": [
       "<tensorflow.python.keras.callbacks.History at 0x7ff8ec548190>"
      ]
     },
     "execution_count": 34,
     "metadata": {},
     "output_type": "execute_result"
    }
   ],
   "source": [
    "model_mirror.fit(\n",
    "    train_X,\n",
    "    [train_a_y, train_b_y],\n",
    "    validation_data=[test_X, [test_a_y, test_b_y]],\n",
    "    epochs=1,\n",
    "    verbose=1\n",
    ")"
   ]
  },
  {
   "cell_type": "markdown",
   "metadata": {},
   "source": [
    "Cool! Essentially the same as for the original one! (Not a surprise actually... but great that it works.)\n",
    "\n",
    "Let's now turn to **freezing** layers. For example, you may want to copy weights from another model but hold those weights fixed upon further training. To test this, we will do a simple toy exercise: freeze a layer of the second model and train it further. Let's compare some weights before and after training. \n",
    "\n",
    "We start by defining a new model that again has the same architecture, **but we set the trainable-parameter for one layer to False**: "
   ]
  },
  {
   "cell_type": "code",
   "execution_count": 35,
   "metadata": {},
   "outputs": [],
   "source": [
    "# Define Input layer(s)\n",
    "input_numbers = tf.keras.layers.Input(shape=(10,), name=\"input_numbers\")\n",
    "\n",
    "# Define separate hidden layers and acting on (same!) input\n",
    "dense_layer_1 = MyStupidDenseLayer(10, name='dense_1')\n",
    "\n",
    "dense_layer_2 = MyStupidDenseLayer(10, name='dense_2')\n",
    "dense_layer_2.trainable = False                                   # Freeze this layer\n",
    "\n",
    "dense_output_1 = dense_layer_1(input_numbers)\n",
    "dense_output_2 = dense_layer_2(input_numbers)\n",
    "\n",
    "\n",
    "\n",
    "# Define classification layer and act on previous output to classify examples\n",
    "classification_layer_1 = tf.keras.layers.Dense(1, \n",
    "                            activation='sigmoid', name='classification_1')\n",
    "\n",
    "classification_layer_2 = tf.keras.layers.Dense(1, \n",
    "                            activation='sigmoid', name='classification_2')\n",
    "\n",
    "\n",
    "\n",
    "classification_output_1 = classification_layer_1(dense_output_1)\n",
    "classification_output_2 = classification_layer_2(dense_output_2)\n",
    "\n",
    "\n",
    "\n",
    "# Build and compile model\n",
    "\n",
    "model_input = input_numbers\n",
    "model_output = [classification_output_1, classification_output_2]\n",
    "losses = ['binary_crossentropy', 'binary_crossentropy']\n",
    "metrics = ['acc', 'acc']\n",
    "\n",
    "model_mirror_2 = tf.keras.models.Model(model_input, model_output)\n",
    "model_mirror_2.compile(loss=losses,  optimizer='adam', metrics=metrics)\n"
   ]
  },
  {
   "cell_type": "markdown",
   "metadata": {},
   "source": [
    "Next, we again set the weights to mirror the first model:"
   ]
  },
  {
   "cell_type": "code",
   "execution_count": 36,
   "metadata": {},
   "outputs": [],
   "source": [
    "model_mirror_2.layers[1].set_weights(model.layers[1].get_weights())\n",
    "model_mirror_2.layers[2].set_weights(model.layers[2].get_weights())\n",
    "model_mirror_2.layers[3].set_weights(model.layers[3].get_weights())\n",
    "model_mirror_2.layers[4].set_weights(model.layers[4].get_weights())"
   ]
  },
  {
   "cell_type": "markdown",
   "metadata": {},
   "source": [
    "What are (some of) the weights now, before we train further?"
   ]
  },
  {
   "cell_type": "code",
   "execution_count": 37,
   "metadata": {},
   "outputs": [
    {
     "data": {
      "text/plain": [
       "array([[ 0.61718553, -0.41603836,  0.918802  ],\n",
       "       [ 0.7583694 , -0.00405855,  0.30756676],\n",
       "       [ 0.5066098 , -0.1176214 ,  0.38368145]], dtype=float32)"
      ]
     },
     "execution_count": 37,
     "metadata": {},
     "output_type": "execute_result"
    }
   ],
   "source": [
    "model_mirror_2.layers[1].get_weights()[0][:3, :3]"
   ]
  },
  {
   "cell_type": "code",
   "execution_count": 38,
   "metadata": {},
   "outputs": [
    {
     "data": {
      "text/plain": [
       "array([[-0.04679712, -0.1315682 , -0.15096872],\n",
       "       [-0.4433521 , -0.17600217,  0.3507804 ],\n",
       "       [-0.352371  ,  0.09641659,  0.28120884]], dtype=float32)"
      ]
     },
     "execution_count": 38,
     "metadata": {},
     "output_type": "execute_result"
    }
   ],
   "source": [
    "model_mirror_2.layers[2].get_weights()[0][:3, :3]"
   ]
  },
  {
   "cell_type": "markdown",
   "metadata": {},
   "source": [
    "We will compare that with the values post further training. Let's also check the 'trainable' settings:"
   ]
  },
  {
   "cell_type": "code",
   "execution_count": 39,
   "metadata": {},
   "outputs": [
    {
     "data": {
      "text/plain": [
       "True"
      ]
     },
     "execution_count": 39,
     "metadata": {},
     "output_type": "execute_result"
    }
   ],
   "source": [
    "model_mirror_2.layers[1].trainable"
   ]
  },
  {
   "cell_type": "code",
   "execution_count": 40,
   "metadata": {},
   "outputs": [
    {
     "data": {
      "text/plain": [
       "False"
      ]
     },
     "execution_count": 40,
     "metadata": {},
     "output_type": "execute_result"
    }
   ],
   "source": [
    "model_mirror_2.layers[2].trainable"
   ]
  },
  {
   "cell_type": "markdown",
   "metadata": {},
   "source": [
    "Good, so it shows that one hidden layer supposedly is trainable, the other one is not. Is that true? We train more and compare weights compared to what they were:"
   ]
  },
  {
   "cell_type": "code",
   "execution_count": 41,
   "metadata": {},
   "outputs": [
    {
     "name": "stdout",
     "output_type": "stream",
     "text": [
      "Train on 400 samples, validate on 400 samples\n",
      "400/400 [==============================] - 0s 389us/sample - loss: 0.6049 - classification_1_loss: 0.1506 - classification_2_loss: 0.4509 - classification_1_acc: 0.9325 - classification_2_acc: 0.7600 - val_loss: 0.6698 - val_classification_1_loss: 0.1556 - val_classification_2_loss: 0.5180 - val_classification_1_acc: 0.9425 - val_classification_2_acc: 0.7400\n"
     ]
    },
    {
     "data": {
      "text/plain": [
       "<tensorflow.python.keras.callbacks.History at 0x7ff8b8589b50>"
      ]
     },
     "execution_count": 41,
     "metadata": {},
     "output_type": "execute_result"
    }
   ],
   "source": [
    "model_mirror_2.fit(\n",
    "    train_X,\n",
    "    [train_a_y, train_b_y],\n",
    "    validation_data=[test_X, [test_a_y, test_b_y]],\n",
    "    epochs=40,\n",
    "    verbose=0\n",
    ")\n",
    "model_mirror_2.fit(\n",
    "    train_X,\n",
    "    [train_a_y, train_b_y],\n",
    "    validation_data=[test_X, [test_a_y, test_b_y]],\n",
    "    epochs=1,\n",
    "    verbose=1\n",
    ")"
   ]
  },
  {
   "cell_type": "code",
   "execution_count": 42,
   "metadata": {},
   "outputs": [
    {
     "data": {
      "text/plain": [
       "array([[ 0.6272421 , -0.41039306,  0.92152977],\n",
       "       [ 0.75836545, -0.01142356,  0.3168626 ],\n",
       "       [ 0.5398538 , -0.12424072,  0.42135727]], dtype=float32)"
      ]
     },
     "execution_count": 42,
     "metadata": {},
     "output_type": "execute_result"
    }
   ],
   "source": [
    "model_mirror_2.layers[1].get_weights()[0][:3, :3]"
   ]
  },
  {
   "cell_type": "markdown",
   "metadata": {},
   "source": [
    "These weights **did change**."
   ]
  },
  {
   "cell_type": "code",
   "execution_count": 43,
   "metadata": {},
   "outputs": [
    {
     "data": {
      "text/plain": [
       "array([[-0.04679712, -0.1315682 , -0.15096872],\n",
       "       [-0.4433521 , -0.17600217,  0.3507804 ],\n",
       "       [-0.352371  ,  0.09641659,  0.28120884]], dtype=float32)"
      ]
     },
     "execution_count": 43,
     "metadata": {},
     "output_type": "execute_result"
    }
   ],
   "source": [
    "model_mirror_2.layers[2].get_weights()[0][:3, :3]"
   ]
  },
  {
   "cell_type": "markdown",
   "metadata": {},
   "source": [
    "These weights **did not change**. So here we could see layer freezing at work!"
   ]
  },
  {
   "cell_type": "code",
   "execution_count": null,
   "metadata": {},
   "outputs": [],
   "source": []
  }
 ],
 "metadata": {
  "kernelspec": {
   "display_name": "Python 3",
   "language": "python",
   "name": "python3"
  },
  "language_info": {
   "codemirror_mode": {
    "name": "ipython",
    "version": 3
   },
   "file_extension": ".py",
   "mimetype": "text/x-python",
   "name": "python",
   "nbconvert_exporter": "python",
   "pygments_lexer": "ipython3",
   "version": "3.8.3"
  }
 },
 "nbformat": 4,
 "nbformat_minor": 2
}
